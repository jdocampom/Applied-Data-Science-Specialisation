{
 "cells": [
  {
   "cell_type": "markdown",
   "metadata": {
    "deletable": false,
    "editable": false,
    "nbgrader": {
     "checksum": "48770f8b5f5d3062d3badd51fcafc401",
     "grade": false,
     "grade_id": "cell-a6c4f74309fc2379",
     "locked": true,
     "schema_version": 1,
     "solution": false
    }
   },
   "source": [
    "# Assignment 4\n",
    "## Description\n",
    "In this assignment you must read in a file of metropolitan regions and associated sports teams from [assets/wikipedia_data.html](assets/wikipedia_data.html) and answer some questions about each metropolitan region. Each of these regions may have one or more teams from the \"Big 4\": NFL (football, in [assets/nfl.csv](assets/nfl.csv)), MLB (baseball, in [assets/mlb.csv](assets/mlb.csv)), NBA (basketball, in [assets/nba.csv](assets/nba.csv) or NHL (hockey, in [assets/nhl.csv](assets/nhl.csv)). Please keep in mind that all questions are from the perspective of the metropolitan region, and that this file is the \"source of authority\" for the location of a given sports team. Thus teams which are commonly known by a different area (e.g. \"Oakland Raiders\") need to be mapped into the metropolitan region given (e.g. San Francisco Bay Area). This will require some human data understanding outside of the data you've been given (e.g. you will have to hand-code some names, and might need to google to find out where teams are)!\n",
    "\n",
    "For each sport I would like you to answer the question: **what is the win/loss ratio's correlation with the population of the city it is in?** Win/Loss ratio refers to the number of wins over the number of wins plus the number of losses. Remember that to calculate the correlation with [`pearsonr`](https://docs.scipy.org/doc/scipy/reference/generated/scipy.stats.pearsonr.html), so you are going to send in two ordered lists of values, the populations from the wikipedia_data.html file and the win/loss ratio for a given sport in the same order. Average the win/loss ratios for those cities which have multiple teams of a single sport. Each sport is worth an equal amount in this assignment (20%\\*4=80%) of the grade for this assignment. You should only use data **from year 2018** for your analysis -- this is important!\n",
    "\n",
    "## Notes\n",
    "\n",
    "1. Do not include data about the MLS or CFL in any of the work you are doing, we're only interested in the Big 4 in this assignment.\n",
    "2. I highly suggest that you first tackle the four correlation questions in order, as they are all similar and worth the majority of grades for this assignment. This is by design!\n",
    "3. It's fair game to talk with peers about high level strategy as well as the relationship between metropolitan areas and sports teams. However, do not post code solving aspects of the assignment (including such as dictionaries mapping areas to teams, or regexes which will clean up names).\n",
    "4. There may be more teams than the assert statements test, remember to collapse multiple teams in one city into a single value!"
   ]
  },
  {
   "cell_type": "code",
   "execution_count": 1,
   "metadata": {
    "deletable": false,
    "nbgrader": {
     "checksum": "1cac4803b02502929f5b1612d48db2b5",
     "grade": false,
     "grade_id": "cell-69b16e4386e58030",
     "locked": false,
     "schema_version": 1,
     "solution": true
    }
   },
   "outputs": [],
   "source": [
    "import pandas as pd\n",
    "import numpy as np\n",
    "import scipy.stats as stats\n",
    "import re\n",
    "\n",
    "def nhl_correlation():\n",
    "    # YOUR CODE HERE\n",
    "    # Data Cleaning: US Cities Dataset\n",
    "    # Import Dataset\n",
    "    cities = pd.read_html(\"Assets/wikipedia_data.html\")[1].iloc[:-1, [0, 3, 5, 6, 7, 8]]\n",
    "    # Data Cleaning Operations\n",
    "    nhl_cities_df = cities.iloc[: ,[0, 1, -1]]\n",
    "    nhl_cities_df['NHL'].replace('\\[.*\\]', '', inplace = True, regex = True)\n",
    "    nhl_cities_df['NHL'].replace(['RangersIslandersDevils', 'KingsDucks', '—', ''],['Rangers', 'Kings', np.nan, np.nan], inplace = True) \n",
    "    nhl_cities_df['NHL'] = nhl_cities_df['NHL'].str.strip()\n",
    "    nhl_cities_df = nhl_cities_df.dropna()\n",
    "    nhl_cities_df.columns = [\"city\", \"pop\", \"nhl\"]\n",
    "    nhl_cities_df['pop'] = pd.to_numeric(nhl_cities_df['pop'])\n",
    "    multiple_team_cities = [\n",
    "        {'city' : 'New York City', 'pop' : 0, 'nhl' : 'Islanders'},\n",
    "        {'city' : 'New York City', 'pop' : 0, 'nhl' : 'Devils'},\n",
    "        {'city' : 'Los Angeles', 'pop' : 0, 'nhl' : 'Ducks'}\n",
    "    ]\n",
    "    nhl_cities_df = pd.concat([nhl_cities_df, pd.DataFrame(multiple_team_cities)])\n",
    "    nhl_cities = nhl_cities_df.drop_duplicates(\"city\").sort_values(by = \"city\")\n",
    "    # Extract Series containing data: \"Population by Region\"\n",
    "    population_by_region = nhl_cities[\"pop\"]\n",
    "    # Data Cleaning: NHL Teams Dataset\n",
    "    # Import Dataset\n",
    "    nhl_df = pd.read_csv(\"Assets/nhl.csv\")\n",
    "    # Data Cleaning Operations\n",
    "    nhl_df = nhl_df[nhl_df.year == 2018].iloc[:, [0, 2, 3]]\n",
    "    nhl_df = nhl_df[~nhl_df.team.str.contains('Division')]\n",
    "    nhl_df.team = nhl_df.team.replace('*', '')\n",
    "    nhl_df[\"city\"] = 0\n",
    "    for i in range(len(nhl_cities_df)):\n",
    "        nhl_df[\"city\"][nhl_df.team.str.contains(nhl_cities_df.nhl.iloc[i])] = nhl_cities_df.city.iloc[i]\n",
    "        nhl_df[\"team\"][nhl_df.team.str.contains(nhl_cities_df.nhl.iloc[i])] = nhl_cities_df.nhl.iloc[i]\n",
    "    nhl_df = nhl_df.astype({'W': int, 'L': int})\n",
    "    total_df = nhl_df.groupby(\"city\").sum()\n",
    "    total_df[\"W/L\"] = total_df[\"W\"] / (total_df[\"W\"] + total_df[\"L\"])\n",
    "    total_df = total_df.sort_values(by = \"city\")\n",
    "    # Extract Series containing data: \"W/L Ratio by Region\"\n",
    "    win_loss_by_region = total_df[\"W/L\"]\n",
    "    # Code Assessments\n",
    "    assert len(population_by_region) == len(win_loss_by_region), \"Q1: Your lists must be the same length\"\n",
    "    assert len(population_by_region) == 28, \"Q1: There should be 28 teams being analysed for NHL\"\n",
    "    #raise NotImplementedError()\n",
    "    return stats.pearsonr(population_by_region, win_loss_by_region)[0]"
   ]
  },
  {
   "cell_type": "code",
   "execution_count": 2,
   "metadata": {},
   "outputs": [
    {
     "output_type": "stream",
     "name": "stderr",
     "text": [
      "/Users/juandiegoocampo/.pyenv/versions/3.9.5/lib/python3.9/site-packages/pandas/core/series.py:4509: SettingWithCopyWarning: \nA value is trying to be set on a copy of a slice from a DataFrame\n\nSee the caveats in the documentation: https://pandas.pydata.org/pandas-docs/stable/user_guide/indexing.html#returning-a-view-versus-a-copy\n  return super().replace(\n<ipython-input-1-af2efee55b0f>:15: SettingWithCopyWarning: \nA value is trying to be set on a copy of a slice from a DataFrame.\nTry using .loc[row_indexer,col_indexer] = value instead\n\nSee the caveats in the documentation: https://pandas.pydata.org/pandas-docs/stable/user_guide/indexing.html#returning-a-view-versus-a-copy\n  nhl_cities_df['NHL'] = nhl_cities_df['NHL'].str.strip()\n<ipython-input-1-af2efee55b0f>:37: SettingWithCopyWarning: \nA value is trying to be set on a copy of a slice from a DataFrame\n\nSee the caveats in the documentation: https://pandas.pydata.org/pandas-docs/stable/user_guide/indexing.html#returning-a-view-versus-a-copy\n  nhl_df[\"city\"][nhl_df.team.str.contains(nhl_cities_df.nhl.iloc[i])] = nhl_cities_df.city.iloc[i]\n"
     ]
    },
    {
     "output_type": "execute_result",
     "data": {
      "text/plain": [
       "0.012308996455744264"
      ]
     },
     "metadata": {},
     "execution_count": 2
    }
   ],
   "source": [
    "nhl_correlation()"
   ]
  },
  {
   "cell_type": "markdown",
   "metadata": {
    "deletable": false,
    "editable": false,
    "nbgrader": {
     "checksum": "988912cae4968d81473f46d783e79c16",
     "grade": false,
     "grade_id": "cell-cb964e690298b71d",
     "locked": true,
     "schema_version": 1,
     "solution": false
    }
   },
   "source": [
    "## Question 2\n",
    "For this question, calculate the win/loss ratio's correlation with the population of the city it is in for the **NBA** using **2018** data."
   ]
  },
  {
   "cell_type": "code",
   "execution_count": 3,
   "metadata": {
    "deletable": false,
    "nbgrader": {
     "checksum": "9394222aafc8ccab0a228098ba0d6010",
     "grade": false,
     "grade_id": "cell-5a5f21279e3d3572",
     "locked": false,
     "schema_version": 1,
     "solution": true
    }
   },
   "outputs": [],
   "source": [
    "import pandas as pd\n",
    "import numpy as np\n",
    "import scipy.stats as stats\n",
    "import re\n",
    "\n",
    "def nba_correlation():\n",
    "    # YOUR CODE HERE\n",
    "    # Data Cleaning: US Cities Dataset\n",
    "    # Import Dataset\n",
    "    cities = pd.read_html(\"Assets/wikipedia_data.html\")[1].iloc[:-1, [0, 3, 5, 6, 7, 8]]\n",
    "    nba_cities_df = cities.iloc[: ,[0, 1, -2]]\n",
    "    nba_cities_df['NBA'].replace('\\[.*\\]', '', inplace = True, regex = True)\n",
    "    nba_cities_df['NBA'].replace(['KnicksNets', 'LakersClippers', '—', ''],['Knicks', 'Lakers', np.nan, np.nan], inplace = True) \n",
    "    nba_cities_df['NBA'] = nba_cities_df['NBA'].str.strip()\n",
    "    nba_cities_df = nba_cities_df.dropna()\n",
    "    nba_cities_df.columns = [\"city\", \"pop\", \"nba\"]\n",
    "    nba_cities_df['pop'] = pd.to_numeric(nba_cities_df['pop'])\n",
    "    multiple_team_cities = [\n",
    "        {'city' : 'New York City', 'pop' : 0, 'nba' : 'Nets'},\n",
    "        {'city' : 'Los Angeles', 'pop' : 0, 'nba' : 'Clippers'}\n",
    "    ]\n",
    "    nba_cities_df = pd.concat([nba_cities_df, pd.DataFrame(multiple_team_cities)])\n",
    "    nba_cities = nba_cities_df.drop_duplicates(\"city\").sort_values(by = \"city\")\n",
    "    # Extract Series containing data: \"Population by Region\"\n",
    "    population_by_region = nba_cities[\"pop\"]\n",
    "    # Data Cleaning: NBA Teams Dataset\n",
    "    # Import Dataset\n",
    "    nba_df = pd.read_csv(\"Assets/nba.csv\")\n",
    "    # Data Cleaning Operations\n",
    "    nba_df = nba_df[nba_df.year == 2018].iloc[:, [0, 1, 2]]\n",
    "    nba_df = nba_df[~nba_df.team.str.contains('Division')]\n",
    "    nba_df.team = nba_df.team.replace('*', '')\n",
    "    nba_df[\"city\"] = 0\n",
    "    for i in range(len(nba_cities_df)):\n",
    "        nba_df[\"city\"][nba_df.team.str.contains(nba_cities_df.nba.iloc[i])] = nba_cities_df.city.iloc[i]\n",
    "        nba_df[\"team\"][nba_df.team.str.contains(nba_cities_df.nba.iloc[i])] = nba_cities_df.nba.iloc[i]\n",
    "    nba_df = nba_df.astype({'W': int, 'L': int})\n",
    "    total_df = nba_df.groupby(\"city\").sum()\n",
    "    total_df[\"W/L\"] = total_df[\"W\"] / (total_df[\"W\"] + total_df[\"L\"])\n",
    "    total_df = total_df.sort_values(by = \"city\")\n",
    "    # Extract Series containing data: \"W/L Ratio by Region\"\n",
    "    win_loss_by_region = total_df[\"W/L\"]\n",
    "    # Code Assessments\n",
    "    assert len(population_by_region) == len(win_loss_by_region), \"Q2: Your lists must be the same length\"\n",
    "    assert len(population_by_region) == 28, \"Q2: There should be 28 teams being analysed for NBA\"\n",
    "    #raise NotImplementedError()\n",
    "    return stats.pearsonr(population_by_region, win_loss_by_region)[0]"
   ]
  },
  {
   "cell_type": "code",
   "execution_count": 4,
   "metadata": {
    "deletable": false,
    "editable": false,
    "nbgrader": {
     "checksum": "bbdeb8eb22f525a34c10dc8798324e42",
     "grade": true,
     "grade_id": "cell-e573b2b4a282b470",
     "locked": true,
     "points": 20,
     "schema_version": 1,
     "solution": false
    }
   },
   "outputs": [
    {
     "output_type": "stream",
     "name": "stderr",
     "text": [
      "/Users/juandiegoocampo/.pyenv/versions/3.9.5/lib/python3.9/site-packages/pandas/core/series.py:4509: SettingWithCopyWarning: \nA value is trying to be set on a copy of a slice from a DataFrame\n\nSee the caveats in the documentation: https://pandas.pydata.org/pandas-docs/stable/user_guide/indexing.html#returning-a-view-versus-a-copy\n  return super().replace(\n<ipython-input-3-9c7220e1f3b1>:14: SettingWithCopyWarning: \nA value is trying to be set on a copy of a slice from a DataFrame.\nTry using .loc[row_indexer,col_indexer] = value instead\n\nSee the caveats in the documentation: https://pandas.pydata.org/pandas-docs/stable/user_guide/indexing.html#returning-a-view-versus-a-copy\n  nba_cities_df['NBA'] = nba_cities_df['NBA'].str.strip()\n<ipython-input-3-9c7220e1f3b1>:35: SettingWithCopyWarning: \nA value is trying to be set on a copy of a slice from a DataFrame\n\nSee the caveats in the documentation: https://pandas.pydata.org/pandas-docs/stable/user_guide/indexing.html#returning-a-view-versus-a-copy\n  nba_df[\"city\"][nba_df.team.str.contains(nba_cities_df.nba.iloc[i])] = nba_cities_df.city.iloc[i]\n"
     ]
    },
    {
     "output_type": "execute_result",
     "data": {
      "text/plain": [
       "-0.17657160252844614"
      ]
     },
     "metadata": {},
     "execution_count": 4
    }
   ],
   "source": [
    "nba_correlation()"
   ]
  },
  {
   "cell_type": "markdown",
   "metadata": {
    "deletable": false,
    "editable": false,
    "nbgrader": {
     "checksum": "1a1a5809f675ca033086422007cd73bd",
     "grade": false,
     "grade_id": "cell-96e15e4335df78f4",
     "locked": true,
     "schema_version": 1,
     "solution": false
    }
   },
   "source": [
    "## Question 3\n",
    "For this question, calculate the win/loss ratio's correlation with the population of the city it is in for the **MLB** using **2018** data."
   ]
  },
  {
   "cell_type": "code",
   "execution_count": 132,
   "metadata": {
    "deletable": false,
    "nbgrader": {
     "checksum": "27e8c0da6c9fa0dffc10488314335b6c",
     "grade": false,
     "grade_id": "cell-33b00fc3f3467b0c",
     "locked": false,
     "schema_version": 1,
     "solution": true
    }
   },
   "outputs": [],
   "source": [
    "import pandas as pd\n",
    "import numpy as np\n",
    "import scipy.stats as stats\n",
    "import re\n",
    "\n",
    "def mlb_correlation(): \n",
    "    # YOUR CODE HERE\n",
    "    # Data Cleaning: US Cities Dataset\n",
    "    # Import Dataset\n",
    "    cities = pd.read_html(\"Assets/wikipedia_data.html\")[1].iloc[:-1, [0, 3, 5, 6, 7, 8]]\n",
    "    mlb_cities_df = cities.iloc[: ,[0, 1, -3]]\n",
    "    mlb_cities_df['MLB'].replace('\\[.*\\]', '', inplace = True, regex = True)\n",
    "    mlb_cities_df['MLB'].replace(['YankeesMets', 'DodgersAngels', 'GiantsAthletics', 'CubsWhite Sox', '—', ''], \n",
    "                                ['Yankees', 'Dodgers', 'Giants', 'Cubs', np.nan,np.nan], inplace = True)\n",
    "    mlb_cities_df = mlb_cities_df.dropna()\n",
    "    mlb_cities_df.columns = [\"city\", \"pop\", \"mlb\"]\n",
    "    mlb_cities_df['pop'] = pd.to_numeric(mlb_cities_df['pop'])\n",
    "    multiple_team_cities = [\n",
    "        {'city' : 'New York City', 'pop' : 0, 'mlb' : 'Mets'},\n",
    "        {'city' : 'Los Angeles', 'pop' : 0, 'mlb' : 'Angels'},\n",
    "        {'city' : 'San Francisco Bay Area', 'pop' : 0, 'mlb' : 'Athletics'},\n",
    "        {'city' : 'Chicago', 'pop' : 0, 'mlb' : 'White Sox'}\n",
    "    ]\n",
    "    mlb_cities_df = pd.concat([mlb_cities_df, pd.DataFrame(multiple_team_cities)])\n",
    "    mlb_cities = mlb_cities_df.drop_duplicates(\"city\").sort_values(by = \"city\")\n",
    "    # Extract Series containing data: \"Population by Region\"\n",
    "    population_by_region = mlb_cities[\"pop\"]\n",
    "    # Data Cleaning: MLB Teams Dataset\n",
    "    # Import Dataset\n",
    "    mlb_df = pd.read_csv(\"Assets/mlb.csv\")\n",
    "    # Data Cleaning Operations\n",
    "    mlb_df = mlb_df[mlb_df.year == 2018].iloc[:, [0, 1, 2]]\n",
    "    mlb_df = mlb_df[~mlb_df.team.str.contains('Division')]\n",
    "    mlb_df.team = mlb_df.team.replace('*', '')\n",
    "    mlb_df[\"city\"] = 0\n",
    "    for i in range(len(mlb_cities_df)):\n",
    "        mlb_df[\"city\"][mlb_df.team.str.contains(mlb_cities_df.mlb.iloc[i])] = mlb_cities_df.city.iloc[i]\n",
    "        mlb_df[\"team\"][mlb_df.team.str.contains(mlb_cities_df.mlb.iloc[i])] = mlb_cities_df.mlb.iloc[i]\n",
    "    mlb_df = mlb_df.astype({'W': int, 'L': int})\n",
    "    total_df = mlb_df.groupby(\"city\").sum()\n",
    "    total_df[\"W/L\"] = total_df[\"W\"] / (total_df[\"W\"] + total_df[\"L\"])\n",
    "    total_df = total_df.sort_values(by = \"city\")\n",
    "    # Extract Series containing data: \"W/L Ratio by Region\"\n",
    "    win_loss_by_region = total_df[\"W/L\"]\n",
    "    # Code Assessments\n",
    "    assert len(population_by_region) == len(win_loss_by_region), \"Q3: Your lists must be the same length\"\n",
    "    assert len(population_by_region) == 26, \"Q3: There should be 26 teams being analysed for MLB\"\n",
    "    #raise NotImplementedError()\n",
    "    return stats.pearsonr(population_by_region, win_loss_by_region)[0]"
   ]
  },
  {
   "cell_type": "code",
   "execution_count": 133,
   "metadata": {
    "deletable": false,
    "editable": false,
    "nbgrader": {
     "checksum": "cda33b094ba19ccc37a481e0dd29e0bc",
     "grade": true,
     "grade_id": "cell-764d4476f425c5a2",
     "locked": true,
     "points": 20,
     "schema_version": 1,
     "solution": false
    }
   },
   "outputs": [
    {
     "output_type": "stream",
     "name": "stderr",
     "text": [
      "/Users/juandiegoocampo/.pyenv/versions/3.9.5/lib/python3.9/site-packages/pandas/core/series.py:4509: SettingWithCopyWarning: \nA value is trying to be set on a copy of a slice from a DataFrame\n\nSee the caveats in the documentation: https://pandas.pydata.org/pandas-docs/stable/user_guide/indexing.html#returning-a-view-versus-a-copy\n  return super().replace(\n<ipython-input-132-2711bd12b902>:37: SettingWithCopyWarning: \nA value is trying to be set on a copy of a slice from a DataFrame\n\nSee the caveats in the documentation: https://pandas.pydata.org/pandas-docs/stable/user_guide/indexing.html#returning-a-view-versus-a-copy\n  mlb_df[\"city\"][mlb_df.team.str.contains(mlb_cities_df.mlb.iloc[i])] = mlb_cities_df.city.iloc[i]\n<ipython-input-132-2711bd12b902>:38: SettingWithCopyWarning: \nA value is trying to be set on a copy of a slice from a DataFrame\n\nSee the caveats in the documentation: https://pandas.pydata.org/pandas-docs/stable/user_guide/indexing.html#returning-a-view-versus-a-copy\n  mlb_df[\"team\"][mlb_df.team.str.contains(mlb_cities_df.mlb.iloc[i])] = mlb_cities_df.mlb.iloc[i]\n"
     ]
    },
    {
     "output_type": "execute_result",
     "data": {
      "text/plain": [
       "0.1505230448710485"
      ]
     },
     "metadata": {},
     "execution_count": 133
    }
   ],
   "source": [
    "mlb_correlation()"
   ]
  },
  {
   "cell_type": "markdown",
   "metadata": {
    "deletable": false,
    "editable": false,
    "nbgrader": {
     "checksum": "6977a6da9ed6d8b7a0b7e37bbeda709b",
     "grade": false,
     "grade_id": "cell-793df6c04dfb126e",
     "locked": true,
     "schema_version": 1,
     "solution": false
    }
   },
   "source": [
    "## Question 4\n",
    "For this question, calculate the win/loss ratio's correlation with the population of the city it is in for the **NFL** using **2018** data."
   ]
  },
  {
   "cell_type": "code",
   "execution_count": 276,
   "metadata": {
    "deletable": false,
    "nbgrader": {
     "checksum": "c4914ad1e119278ec2bd567c52640b66",
     "grade": false,
     "grade_id": "cell-8ccebc209aeec8d9",
     "locked": false,
     "schema_version": 1,
     "solution": true
    }
   },
   "outputs": [],
   "source": [
    "import pandas as pd\n",
    "import numpy as np\n",
    "import scipy.stats as stats\n",
    "import re\n",
    "\n",
    "def nfl_correlation(): \n",
    "    # YOUR CODE HERE\n",
    "    # Data Cleaning: US Cities Dataset\n",
    "    # Import Dataset\n",
    "    cities = pd.read_html(\"Assets/wikipedia_data.html\")[1].iloc[:-1, [0, 3, 5, 6, 7, 8]]\n",
    "    nfl_cities_df = cities.iloc[: ,[0, 1, -4]]\n",
    "    nfl_cities_df['NFL'].replace('\\[.*\\]', '', inplace = True, regex = True)\n",
    "    nfl_cities_df['NFL'].replace(['GiantsJets', 'RamsChargers', '49ersRaiders', '—', '', '— '], \n",
    "                                ['Giants', 'Rams', '49ers', np.nan, np.nan, np.nan], inplace = True)\n",
    "    nfl_cities_df = nfl_cities_df.dropna()\n",
    "    nfl_cities_df.columns = [\"city\", \"pop\", \"nfl\"]\n",
    "    nfl_cities_df['pop'] = pd.to_numeric(nfl_cities_df['pop'])\n",
    "    multiple_team_cities = [\n",
    "        {'city' : 'New York City', 'pop' : 0, 'nfl' : 'Jets'},\n",
    "        {'city' : 'Los Angeles', 'pop' : 0, 'nfl' : 'Chargers'},\n",
    "        {'city' : 'San Francisco Bay Area', 'pop' : 0, 'nfl' : 'Raiders'}\n",
    "    ]\n",
    "    nfl_cities_df = pd.concat([nfl_cities_df, pd.DataFrame(multiple_team_cities)])\n",
    "    nlf_cities = nfl_cities_df.drop_duplicates(\"city\").sort_values(by = \"city\")\n",
    "    # Extract Series containing data: \"Population by Region\"\n",
    "    population_by_region = nlf_cities[\"pop\"]\n",
    "    # Data Cleaning: NFL Teams Dataset\n",
    "    # Import Dataset\n",
    "    nfl_df = pd.read_csv(\"Assets/nfl.csv\")\n",
    "    # Data Cleaning Operations\n",
    "    nfl_df = nfl_df[nfl_df.year == 2018].iloc[:, [-2, -4, 1]]\n",
    "    nfl_df = nfl_df[~nfl_df.team.str.contains('FC')]\n",
    "    nfl_df[\"city\"] = 0\n",
    "    for i in range(len(nfl_cities_df)):\n",
    "        nfl_df[\"city\"][nfl_df.team.str.contains(nfl_cities_df.nfl.iloc[i])] = nfl_cities_df.city.iloc[i]\n",
    "        nfl_df[\"team\"][nfl_df.team.str.contains(nfl_cities_df.nfl.iloc[i])] = nfl_cities_df.nfl.iloc[i]\n",
    "    nfl_df = nfl_df.astype({'W': int, 'L': int})\n",
    "    total_df = nfl_df.groupby(\"city\").sum()\n",
    "    total_df[\"W/L\"] = total_df[\"W\"] / (total_df[\"W\"] + total_df[\"L\"])\n",
    "    total_df = total_df.sort_values(by = \"city\")\n",
    "    # Extract Series containing data: \"W/L Ratio by Region\"\n",
    "    win_loss_by_region = total_df[\"W/L\"]\n",
    "    # Code Assessments\n",
    "    assert len(population_by_region) == len(win_loss_by_region), \"Q4: Your lists must be the same length\"\n",
    "    assert len(population_by_region) == 29, \"Q4: There should be 29 teams being analysed for NFL\"\n",
    "    #raise NotImplementedError()\n",
    "    return stats.pearsonr(population_by_region, win_loss_by_region)[0]"
   ]
  },
  {
   "cell_type": "code",
   "execution_count": 277,
   "metadata": {
    "deletable": false,
    "editable": false,
    "nbgrader": {
     "checksum": "e9415d6399aa49e3a1a60813afdefa3b",
     "grade": true,
     "grade_id": "cell-de7b148b9554dbda",
     "locked": true,
     "points": 20,
     "schema_version": 1,
     "solution": false
    }
   },
   "outputs": [
    {
     "output_type": "stream",
     "name": "stderr",
     "text": [
      "/Users/juandiegoocampo/.pyenv/versions/3.9.5/lib/python3.9/site-packages/pandas/core/series.py:4509: SettingWithCopyWarning: \nA value is trying to be set on a copy of a slice from a DataFrame\n\nSee the caveats in the documentation: https://pandas.pydata.org/pandas-docs/stable/user_guide/indexing.html#returning-a-view-versus-a-copy\n  return super().replace(\n<ipython-input-276-afbde6fda750>:35: SettingWithCopyWarning: \nA value is trying to be set on a copy of a slice from a DataFrame\n\nSee the caveats in the documentation: https://pandas.pydata.org/pandas-docs/stable/user_guide/indexing.html#returning-a-view-versus-a-copy\n  nfl_df[\"city\"][nfl_df.team.str.contains(nfl_cities_df.nfl.iloc[i])] = nfl_cities_df.city.iloc[i]\n"
     ]
    },
    {
     "output_type": "execute_result",
     "data": {
      "text/plain": [
       "0.004922112149349409"
      ]
     },
     "metadata": {},
     "execution_count": 277
    }
   ],
   "source": [
    "nfl_correlation()"
   ]
  },
  {
   "cell_type": "markdown",
   "metadata": {
    "deletable": false,
    "editable": false,
    "nbgrader": {
     "checksum": "b02d5cd3273f561e4ae939bb2a41740c",
     "grade": false,
     "grade_id": "cell-97b49d8639e908c4",
     "locked": true,
     "schema_version": 1,
     "solution": false
    }
   },
   "source": [
    "## Question 5\n",
    "In this question I would like you to explore the hypothesis that **given that an area has two sports teams in different sports, those teams will perform the same within their respective sports**. How I would like to see this explored is with a series of paired t-tests (so use [`ttest_rel`](https://docs.scipy.org/doc/scipy/reference/generated/scipy.stats.ttest_rel.html)) between all pairs of sports. Are there any sports where we can reject the null hypothesis? Again, average values where a sport has multiple teams in one region. Remember, you will only be including, for each sport, cities which have teams engaged in that sport, drop others as appropriate. This question is worth 20% of the grade for this assignment."
   ]
  },
  {
   "cell_type": "code",
   "execution_count": 24,
   "metadata": {},
   "outputs": [],
   "source": [
    "import pandas as pd\n",
    "import numpy as np\n",
    "import scipy.stats as stats\n",
    "import re\n",
    "\n",
    "def nhl_correlation_data():\n",
    "    # YOUR CODE HERE\n",
    "    # Data Cleaning: US Cities Dataset\n",
    "    # Import Dataset\n",
    "    cities = pd.read_html(\"Assets/wikipedia_data.html\")[1].iloc[:-1, [0, 3, 5, 6, 7, 8]]\n",
    "    # Data Cleaning Operations\n",
    "    nhl_cities_df = cities.iloc[: ,[0, 1, -1]]\n",
    "    nhl_cities_df['NHL'].replace('\\[.*\\]', '', inplace = True, regex = True)\n",
    "    nhl_cities_df['NHL'].replace(['RangersIslandersDevils', 'KingsDucks', '—', ''],['Rangers', 'Kings', np.nan, np.nan], inplace = True) \n",
    "    nhl_cities_df['NHL'] = nhl_cities_df['NHL'].str.strip()\n",
    "    nhl_cities_df = nhl_cities_df.dropna()\n",
    "    nhl_cities_df.columns = [\"city\", \"pop\", \"nhl\"]\n",
    "    nhl_cities_df['pop'] = pd.to_numeric(nhl_cities_df['pop'])\n",
    "    multiple_team_cities = [\n",
    "        {'city' : 'New York City', 'pop' : 0, 'nhl' : 'Islanders'},\n",
    "        {'city' : 'New York City', 'pop' : 0, 'nhl' : 'Devils'},\n",
    "        {'city' : 'Los Angeles', 'pop' : 0, 'nhl' : 'Ducks'}\n",
    "    ]\n",
    "    nhl_cities_df = pd.concat([nhl_cities_df, pd.DataFrame(multiple_team_cities)])\n",
    "    # Data Cleaning: NHL Teams Dataset\n",
    "    # Import Dataset\n",
    "    nhl_df = pd.read_csv(\"Assets/nhl.csv\")\n",
    "    # Data Cleaning Operations\n",
    "    nhl_df = nhl_df[nhl_df.year == 2018].iloc[:, [0, 2, 3]]\n",
    "    nhl_df = nhl_df[~nhl_df.team.str.contains('Division')]\n",
    "    nhl_df.team = nhl_df.team.replace('*', '')\n",
    "    nhl_df[\"city\"] = 0\n",
    "    for i in range(len(nhl_cities_df)):\n",
    "        nhl_df[\"city\"][nhl_df.team.str.contains(nhl_cities_df.nhl.iloc[i])] = nhl_cities_df.city.iloc[i]\n",
    "        nhl_df[\"team\"][nhl_df.team.str.contains(nhl_cities_df.nhl.iloc[i])] = nhl_cities_df.nhl.iloc[i]\n",
    "    nhl_df = nhl_df.astype({'W': int, 'L': int})\n",
    "    total_df = nhl_df.groupby(\"city\").sum()\n",
    "    total_df[\"W/L\"] = total_df[\"W\"] / (total_df[\"W\"] + total_df[\"L\"])\n",
    "    return total_df\n",
    "\n",
    "def nba_correlation_data():\n",
    "    # YOUR CODE HERE\n",
    "    # Data Cleaning: US Cities Dataset\n",
    "    # Import Dataset\n",
    "    cities = pd.read_html(\"Assets/wikipedia_data.html\")[1].iloc[:-1, [0, 3, 5, 6, 7, 8]]\n",
    "    nba_cities_df = cities.iloc[: ,[0, 1, -2]]\n",
    "    nba_cities_df['NBA'].replace('\\[.*\\]', '', inplace = True, regex = True)\n",
    "    nba_cities_df['NBA'].replace(['KnicksNets', 'LakersClippers', '—', ''],['Knicks', 'Lakers', np.nan, np.nan], inplace = True) \n",
    "    nba_cities_df['NBA'] = nba_cities_df['NBA'].str.strip()\n",
    "    nba_cities_df = nba_cities_df.dropna()\n",
    "    nba_cities_df.columns = [\"city\", \"pop\", \"nba\"]\n",
    "    nba_cities_df['pop'] = pd.to_numeric(nba_cities_df['pop'])\n",
    "    multiple_team_cities = [\n",
    "        {'city' : 'New York City', 'pop' : 0, 'nba' : 'Nets'},\n",
    "        {'city' : 'Los Angeles', 'pop' : 0, 'nba' : 'Clippers'}\n",
    "    ]\n",
    "    nba_cities_df = pd.concat([nba_cities_df, pd.DataFrame(multiple_team_cities)])\n",
    "    # Data Cleaning: NBA Teams Dataset\n",
    "    # Import Dataset\n",
    "    nba_df = pd.read_csv(\"Assets/nba.csv\")\n",
    "    # Data Cleaning Operations\n",
    "    nba_df = nba_df[nba_df.year == 2018].iloc[:, [0, 1, 2]]\n",
    "    nba_df = nba_df[~nba_df.team.str.contains('Division')]\n",
    "    nba_df.team = nba_df.team.replace('*', '')\n",
    "    nba_df[\"city\"] = 0\n",
    "    for i in range(len(nba_cities_df)):\n",
    "        nba_df[\"city\"][nba_df.team.str.contains(nba_cities_df.nba.iloc[i])] = nba_cities_df.city.iloc[i]\n",
    "        nba_df[\"team\"][nba_df.team.str.contains(nba_cities_df.nba.iloc[i])] = nba_cities_df.nba.iloc[i]\n",
    "    nba_df = nba_df.astype({'W': int, 'L': int})\n",
    "    total_df = nba_df.groupby(\"city\").sum()\n",
    "    total_df[\"W/L\"] = total_df[\"W\"] / (total_df[\"W\"] + total_df[\"L\"])\n",
    "    return total_df\n",
    "\n",
    "def mlb_correlation_data(): \n",
    "    # YOUR CODE HERE\n",
    "    # Data Cleaning: US Cities Dataset\n",
    "    # Import Dataset\n",
    "    cities = pd.read_html(\"Assets/wikipedia_data.html\")[1].iloc[:-1, [0, 3, 5, 6, 7, 8]]\n",
    "    mlb_cities_df = cities.iloc[: ,[0, 1, -3]]\n",
    "    mlb_cities_df['MLB'].replace('\\[.*\\]', '', inplace = True, regex = True)\n",
    "    mlb_cities_df['MLB'].replace(['YankeesMets', 'DodgersAngels', 'GiantsAthletics', 'CubsWhite Sox', '—', ''], \n",
    "                                ['Yankees', 'Dodgers', 'Giants', 'Cubs', np.nan,np.nan], inplace = True)\n",
    "    mlb_cities_df = mlb_cities_df.dropna()\n",
    "    mlb_cities_df.columns = [\"city\", \"pop\", \"mlb\"]\n",
    "    mlb_cities_df['pop'] = pd.to_numeric(mlb_cities_df['pop'])\n",
    "    multiple_team_cities = [\n",
    "        {'city' : 'New York City', 'pop' : 0, 'mlb' : 'Mets'},\n",
    "        {'city' : 'Los Angeles', 'pop' : 0, 'mlb' : 'Angels'},\n",
    "        {'city' : 'San Francisco Bay Area', 'pop' : 0, 'mlb' : 'Athletics'},\n",
    "        {'city' : 'Chicago', 'pop' : 0, 'mlb' : 'White Sox'}\n",
    "    ]\n",
    "    mlb_cities_df = pd.concat([mlb_cities_df, pd.DataFrame(multiple_team_cities)])\n",
    "    # Data Cleaning: MLB Teams Dataset\n",
    "    # Import Dataset\n",
    "    mlb_df = pd.read_csv(\"Assets/mlb.csv\")\n",
    "    # Data Cleaning Operations\n",
    "    mlb_df = mlb_df[mlb_df.year == 2018].iloc[:, [0, 1, 2]]\n",
    "    mlb_df = mlb_df[~mlb_df.team.str.contains('Division')]\n",
    "    mlb_df.team = mlb_df.team.replace('*', '')\n",
    "    mlb_df[\"city\"] = 0\n",
    "    for i in range(len(mlb_cities_df)):\n",
    "        mlb_df[\"city\"][mlb_df.team.str.contains(mlb_cities_df.mlb.iloc[i])] = mlb_cities_df.city.iloc[i]\n",
    "        mlb_df[\"team\"][mlb_df.team.str.contains(mlb_cities_df.mlb.iloc[i])] = mlb_cities_df.mlb.iloc[i]\n",
    "    mlb_df = mlb_df.astype({'W': int, 'L': int})\n",
    "    total_df = mlb_df.groupby(\"city\").sum()\n",
    "    total_df[\"W/L\"] = total_df[\"W\"] / (total_df[\"W\"] + total_df[\"L\"])\n",
    "    return total_df\n",
    "\n",
    "def nfl_correlation_data(): \n",
    "    # YOUR CODE HERE\n",
    "    # Data Cleaning: US Cities Dataset\n",
    "    # Import Dataset\n",
    "    cities = pd.read_html(\"Assets/wikipedia_data.html\")[1].iloc[:-1, [0, 3, 5, 6, 7, 8]]\n",
    "    nfl_cities_df = cities.iloc[: ,[0, 1, -4]]\n",
    "    nfl_cities_df['NFL'].replace('\\[.*\\]', '', inplace = True, regex = True)\n",
    "    nfl_cities_df['NFL'].replace(['GiantsJets', 'RamsChargers', '49ersRaiders', '—', '', '— '], \n",
    "                                ['Giants', 'Rams', '49ers', np.nan, np.nan, np.nan], inplace = True)\n",
    "    nfl_cities_df = nfl_cities_df.dropna()\n",
    "    nfl_cities_df.columns = [\"city\", \"pop\", \"nfl\"]\n",
    "    nfl_cities_df['pop'] = pd.to_numeric(nfl_cities_df['pop'])\n",
    "    multiple_team_cities = [\n",
    "        {'city' : 'New York City', 'pop' : 0, 'nfl' : 'Jets'},\n",
    "        {'city' : 'Los Angeles', 'pop' : 0, 'nfl' : 'Chargers'},\n",
    "        {'city' : 'San Francisco Bay Area', 'pop' : 0, 'nfl' : 'Raiders'}\n",
    "    ]\n",
    "    nfl_cities_df = pd.concat([nfl_cities_df, pd.DataFrame(multiple_team_cities)])\n",
    "    # Data Cleaning: NFL Teams Dataset\n",
    "    # Import Dataset\n",
    "    nfl_df = pd.read_csv(\"Assets/nfl.csv\")\n",
    "    # Data Cleaning Operations\n",
    "    nfl_df = nfl_df[nfl_df.year == 2018].iloc[:, [-2, -4, 1]]\n",
    "    nfl_df = nfl_df[~nfl_df.team.str.contains('FC')]\n",
    "    nfl_df[\"city\"] = 0\n",
    "    for i in range(len(nfl_cities_df)):\n",
    "        nfl_df[\"city\"][nfl_df.team.str.contains(nfl_cities_df.nfl.iloc[i])] = nfl_cities_df.city.iloc[i]\n",
    "        nfl_df[\"team\"][nfl_df.team.str.contains(nfl_cities_df.nfl.iloc[i])] = nfl_cities_df.nfl.iloc[i]\n",
    "    nfl_df = nfl_df.astype({'W': int, 'L': int})\n",
    "    total_df = nfl_df.groupby(\"city\").sum()\n",
    "    total_df[\"W/L\"] = total_df[\"W\"] / (total_df[\"W\"] + total_df[\"L\"])\n",
    "    return total_df\n",
    "\n",
    "def sports_team_performance():\n",
    "    # YOUR CODE HERE\n",
    "    # Compute W/L Ratio per City \n",
    "    nfl_data = nfl_correlation_data()\n",
    "    nba_data = nba_correlation_data()\n",
    "    mlb_data = mlb_correlation_data()\n",
    "    nhl_data = nhl_correlation_data()\n",
    "    # Merging DataFrames\n",
    "    nba_nfl = pd.merge(nba_data, nfl_data, on = 'city')\n",
    "    nba_nhl = pd.merge(nba_data, nhl_data, on = 'city')\n",
    "    mlb_nfl = pd.merge(mlb_data, nfl_data, on = 'city')\n",
    "    mlb_nhl = pd.merge(mlb_data, nhl_data, on = 'city')\n",
    "    mlb_nba = pd.merge(mlb_data, nba_data, on = 'city')\n",
    "    nhl_nfl = pd.merge(nhl_data, nfl_data, on = 'city')\n",
    "    # Compute P-Values\n",
    "    pval_nba_nfl = stats.ttest_rel(nba_nfl['W/L_x'], nba_nfl['W/L_y'])[1]\n",
    "    pval_nba_nhl = stats.ttest_rel(nba_nhl['W/L_x'], nba_nhl['W/L_y'])[1]\n",
    "    pval_mlb_nfl = stats.ttest_rel(mlb_nfl['W/L_x'], mlb_nfl['W/L_y'])[1]\n",
    "    pval_mlb_nhl = stats.ttest_rel(mlb_nhl['W/L_x'], mlb_nhl['W/L_y'])[1]\n",
    "    pval_mlb_nba = stats.ttest_rel(mlb_nba['W/L_x'], mlb_nba['W/L_y'])[1]\n",
    "    pval_nhl_nfl = stats.ttest_rel(nhl_nfl['W/L_x'], nhl_nfl['W/L_y'])[1]\n",
    "    # Creating DataFrame\n",
    "    # p_vals = [pval_nba_nfl, pval_nba_nhl, pval_mlb_nfl, pval_mlb_nhl, pval_mlb_nba, pval_nhl_nfl]\n",
    "    p_values = {\n",
    "        'NFL': {\"NFL\": np.nan, 'NBA': pval_nba_nfl, 'NHL': pval_nhl_nfl, 'MLB': pval_mlb_nfl},\n",
    "        'NBA': {\"NFL\": pval_nba_nfl, 'NBA': np.nan, 'NHL': pval_nba_nhl, 'MLB': pval_mlb_nba},\n",
    "        'NHL': {\"NFL\": pval_nhl_nfl, 'NBA': pval_nba_nhl, 'NHL': np.nan, 'MLB': pval_mlb_nhl},\n",
    "        'MLB': {\"NFL\": pval_mlb_nfl, 'NBA': pval_mlb_nba, 'NHL': pval_mlb_nhl, 'MLB': np.nan}\n",
    "    }\n",
    "    p_values = pd.DataFrame(p_values)\n",
    "    # Note: p_values is a full dataframe, so df.loc[\"NFL\",\"NBA\"] should be the same as df.loc[\"NBA\",\"NFL\"] and\n",
    "    # df.loc[\"NFL\",\"NFL\"] should return np.nan\n",
    "    # sports = ['NFL', 'NBA', 'NHL', 'MLB']\n",
    "    # p_values = pd.DataFrame({k:p_vals for k in sports}, index=sports)\n",
    "    # Code Assessments\n",
    "    assert abs(p_values.loc[\"NBA\", \"NHL\"] - 0.02) <= 1e-2, \"The NBA-NHL p-value should be around 0.02\"\n",
    "    assert abs(p_values.loc[\"MLB\", \"NFL\"] - 0.80) <= 1e-2, \"The MLB-NFL p-value should be around 0.80\"\n",
    "    #raise NotImplementedError()\n",
    "    return p_values"
   ]
  },
  {
   "cell_type": "code",
   "execution_count": 25,
   "metadata": {},
   "outputs": [
    {
     "output_type": "stream",
     "name": "stderr",
     "text": [
      "/Users/juandiegoocampo/.pyenv/versions/3.9.5/lib/python3.9/site-packages/pandas/core/series.py:4509: SettingWithCopyWarning: \n",
      "A value is trying to be set on a copy of a slice from a DataFrame\n",
      "\n",
      "See the caveats in the documentation: https://pandas.pydata.org/pandas-docs/stable/user_guide/indexing.html#returning-a-view-versus-a-copy\n",
      "  return super().replace(\n",
      "<ipython-input-24-38d1cce4df98>:135: SettingWithCopyWarning: \n",
      "A value is trying to be set on a copy of a slice from a DataFrame\n",
      "\n",
      "See the caveats in the documentation: https://pandas.pydata.org/pandas-docs/stable/user_guide/indexing.html#returning-a-view-versus-a-copy\n",
      "  nfl_df[\"city\"][nfl_df.team.str.contains(nfl_cities_df.nfl.iloc[i])] = nfl_cities_df.city.iloc[i]\n",
      "/Users/juandiegoocampo/.pyenv/versions/3.9.5/lib/python3.9/site-packages/pandas/core/series.py:4509: SettingWithCopyWarning: \n",
      "A value is trying to be set on a copy of a slice from a DataFrame\n",
      "\n",
      "See the caveats in the documentation: https://pandas.pydata.org/pandas-docs/stable/user_guide/indexing.html#returning-a-view-versus-a-copy\n",
      "  return super().replace(\n",
      "<ipython-input-24-38d1cce4df98>:49: SettingWithCopyWarning: \n",
      "A value is trying to be set on a copy of a slice from a DataFrame.\n",
      "Try using .loc[row_indexer,col_indexer] = value instead\n",
      "\n",
      "See the caveats in the documentation: https://pandas.pydata.org/pandas-docs/stable/user_guide/indexing.html#returning-a-view-versus-a-copy\n",
      "  nba_cities_df['NBA'] = nba_cities_df['NBA'].str.strip()\n",
      "<ipython-input-24-38d1cce4df98>:67: SettingWithCopyWarning: \n",
      "A value is trying to be set on a copy of a slice from a DataFrame\n",
      "\n",
      "See the caveats in the documentation: https://pandas.pydata.org/pandas-docs/stable/user_guide/indexing.html#returning-a-view-versus-a-copy\n",
      "  nba_df[\"city\"][nba_df.team.str.contains(nba_cities_df.nba.iloc[i])] = nba_cities_df.city.iloc[i]\n",
      "/Users/juandiegoocampo/.pyenv/versions/3.9.5/lib/python3.9/site-packages/pandas/core/series.py:4509: SettingWithCopyWarning: \n",
      "A value is trying to be set on a copy of a slice from a DataFrame\n",
      "\n",
      "See the caveats in the documentation: https://pandas.pydata.org/pandas-docs/stable/user_guide/indexing.html#returning-a-view-versus-a-copy\n",
      "  return super().replace(\n",
      "<ipython-input-24-38d1cce4df98>:102: SettingWithCopyWarning: \n",
      "A value is trying to be set on a copy of a slice from a DataFrame\n",
      "\n",
      "See the caveats in the documentation: https://pandas.pydata.org/pandas-docs/stable/user_guide/indexing.html#returning-a-view-versus-a-copy\n",
      "  mlb_df[\"city\"][mlb_df.team.str.contains(mlb_cities_df.mlb.iloc[i])] = mlb_cities_df.city.iloc[i]\n",
      "<ipython-input-24-38d1cce4df98>:103: SettingWithCopyWarning: \n",
      "A value is trying to be set on a copy of a slice from a DataFrame\n",
      "\n",
      "See the caveats in the documentation: https://pandas.pydata.org/pandas-docs/stable/user_guide/indexing.html#returning-a-view-versus-a-copy\n",
      "  mlb_df[\"team\"][mlb_df.team.str.contains(mlb_cities_df.mlb.iloc[i])] = mlb_cities_df.mlb.iloc[i]\n",
      "/Users/juandiegoocampo/.pyenv/versions/3.9.5/lib/python3.9/site-packages/pandas/core/series.py:4509: SettingWithCopyWarning: \n",
      "A value is trying to be set on a copy of a slice from a DataFrame\n",
      "\n",
      "See the caveats in the documentation: https://pandas.pydata.org/pandas-docs/stable/user_guide/indexing.html#returning-a-view-versus-a-copy\n",
      "  return super().replace(\n",
      "<ipython-input-24-38d1cce4df98>:15: SettingWithCopyWarning: \n",
      "A value is trying to be set on a copy of a slice from a DataFrame.\n",
      "Try using .loc[row_indexer,col_indexer] = value instead\n",
      "\n",
      "See the caveats in the documentation: https://pandas.pydata.org/pandas-docs/stable/user_guide/indexing.html#returning-a-view-versus-a-copy\n",
      "  nhl_cities_df['NHL'] = nhl_cities_df['NHL'].str.strip()\n",
      "<ipython-input-24-38d1cce4df98>:34: SettingWithCopyWarning: \n",
      "A value is trying to be set on a copy of a slice from a DataFrame\n",
      "\n",
      "See the caveats in the documentation: https://pandas.pydata.org/pandas-docs/stable/user_guide/indexing.html#returning-a-view-versus-a-copy\n",
      "  nhl_df[\"city\"][nhl_df.team.str.contains(nhl_cities_df.nhl.iloc[i])] = nhl_cities_df.city.iloc[i]\n"
     ]
    },
    {
     "output_type": "execute_result",
     "data": {
      "text/plain": [
       "          NFL       NBA       NHL       MLB\n",
       "NFL       NaN  0.941792  0.030959  0.802384\n",
       "NBA  0.941792       NaN  0.022316  0.951046\n",
       "NHL  0.030959  0.022316       NaN  0.000712\n",
       "MLB  0.802384  0.951046  0.000712       NaN"
      ],
      "text/html": "<div>\n<style scoped>\n    .dataframe tbody tr th:only-of-type {\n        vertical-align: middle;\n    }\n\n    .dataframe tbody tr th {\n        vertical-align: top;\n    }\n\n    .dataframe thead th {\n        text-align: right;\n    }\n</style>\n<table border=\"1\" class=\"dataframe\">\n  <thead>\n    <tr style=\"text-align: right;\">\n      <th></th>\n      <th>NFL</th>\n      <th>NBA</th>\n      <th>NHL</th>\n      <th>MLB</th>\n    </tr>\n  </thead>\n  <tbody>\n    <tr>\n      <th>NFL</th>\n      <td>NaN</td>\n      <td>0.941792</td>\n      <td>0.030959</td>\n      <td>0.802384</td>\n    </tr>\n    <tr>\n      <th>NBA</th>\n      <td>0.941792</td>\n      <td>NaN</td>\n      <td>0.022316</td>\n      <td>0.951046</td>\n    </tr>\n    <tr>\n      <th>NHL</th>\n      <td>0.030959</td>\n      <td>0.022316</td>\n      <td>NaN</td>\n      <td>0.000712</td>\n    </tr>\n    <tr>\n      <th>MLB</th>\n      <td>0.802384</td>\n      <td>0.951046</td>\n      <td>0.000712</td>\n      <td>NaN</td>\n    </tr>\n  </tbody>\n</table>\n</div>"
     },
     "metadata": {},
     "execution_count": 25
    }
   ],
   "source": [
    "sports_team_performance()"
   ]
  },
  {
   "cell_type": "code",
   "execution_count": null,
   "metadata": {},
   "outputs": [],
   "source": []
  }
 ],
 "metadata": {
  "coursera": {
   "schema_names": [
    "mooc_adswpy_1_v2_assignment4"
   ]
  },
  "kernelspec": {
   "name": "python3",
   "display_name": "Python 3.9.5 64-bit ('3.9.5': pyenv)"
  },
  "language_info": {
   "codemirror_mode": {
    "name": "ipython",
    "version": 3
   },
   "file_extension": ".py",
   "mimetype": "text/x-python",
   "name": "python",
   "nbconvert_exporter": "python",
   "pygments_lexer": "ipython3",
   "version": "3.9.5"
  },
  "interpreter": {
   "hash": "5a70365f783937cbcf9319648a74fad3c98871ae2f7fc509137a9b4df0635ebb"
  }
 },
 "nbformat": 4,
 "nbformat_minor": 4
}