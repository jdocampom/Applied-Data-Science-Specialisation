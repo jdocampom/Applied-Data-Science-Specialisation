{
 "cells": [
  {
   "cell_type": "markdown",
   "metadata": {},
   "source": [
    "# Quiz 4"
   ]
  },
  {
   "cell_type": "code",
   "execution_count": 1,
   "metadata": {},
   "outputs": [
    {
     "output_type": "stream",
     "name": "stdout",
     "text": [
      "46\n"
     ]
    }
   ],
   "source": [
    "# Exercise 1 - OK\n",
    "import numpy as np\n",
    "\n",
    "a = np.arange(8)\n",
    "b = a[4:6]\n",
    "b[:] = 40\n",
    "c = a[4] + a[6]\n",
    "print(c)"
   ]
  },
  {
   "cell_type": "code",
   "execution_count": 6,
   "metadata": {},
   "outputs": [
    {
     "output_type": "stream",
     "name": "stdout",
     "text": [
      "True\n"
     ]
    }
   ],
   "source": [
    "# Exercise 2 - OK\n",
    "import re\n",
    "s = 'ABCAC'\n",
    "\n",
    "print(bool(re.match('A', s)) == True)"
   ]
  },
  {
   "cell_type": "code",
   "execution_count": 9,
   "metadata": {},
   "outputs": [
    {
     "output_type": "stream",
     "name": "stdout",
     "text": [
      "['C', 'F', 'B']\n"
     ]
    }
   ],
   "source": [
    "# Exercise 3 - OK\n",
    "def result():\n",
    "    s, result = 'ACAABAACAAABACDBADDDFSDDDFFSSSASDAFAAACBAAAFASD', []\n",
    "    # compete the pattern below\n",
    "    pattern = \"(\\w)(?=[A]{3})\"\n",
    "    for item in re.finditer(pattern, s):\n",
    "      # identify the group number below.\n",
    "      result.append(item.group())\n",
    "    return result\n",
    "\n",
    "print(result())"
   ]
  },
  {
   "cell_type": "code",
   "execution_count": 10,
   "metadata": {},
   "outputs": [
    {
     "output_type": "stream",
     "name": "stdout",
     "text": [
      "df.index[0]\n"
     ]
    }
   ],
   "source": [
    "# Exercise 4 - OK\n",
    "print(\"df.index[0]\")"
   ]
  },
  {
   "cell_type": "code",
   "execution_count": 11,
   "metadata": {},
   "outputs": [
    {
     "output_type": "stream",
     "name": "stdout",
     "text": [
      "s3['Mango'] >=  s1.add(s2, fill_value = 0)['Mango']\n"
     ]
    }
   ],
   "source": [
    "# Exercise 5 - OK\n",
    "print(\"s3['Mango'] >=  s1.add(s2, fill_value = 0)['Mango']\")"
   ]
  },
  {
   "cell_type": "code",
   "execution_count": 12,
   "metadata": {},
   "outputs": [
    {
     "output_type": "stream",
     "name": "stdout",
     "text": [
      "Every time we call df.set_index(), the old index will be discarded.\nEvery time we call df.reset_index(), the old index will be set as a new column.\n"
     ]
    }
   ],
   "source": [
    "# Exercise 6 - OK\n",
    "print(\"Every time we call df.set_index(), the old index will be discarded.\")\n",
    "print(\"Every time we call df.reset_index(), the old index will be set as a new column.\")"
   ]
  },
  {
   "cell_type": "code",
   "execution_count": 15,
   "metadata": {},
   "outputs": [
    {
     "output_type": "stream",
     "name": "stdout",
     "text": [
      "b    1\nc    2\nd    3\ne    4\ndtype: int64\n"
     ]
    }
   ],
   "source": [
    "# Exercise 7 - OK\n",
    "import pandas as pd\n",
    "S = pd.Series(np.arange(5), index=['a', 'b', 'c', 'd', 'e'])\n",
    "print(S['b':'e'])"
   ]
  },
  {
   "cell_type": "code",
   "execution_count": 18,
   "metadata": {},
   "outputs": [
    {
     "output_type": "stream",
     "name": "stdout",
     "text": [
      "\nf = lambda x: x.max() + x.min() \n\ndf_new = df.apply(f)\nAns: 88\n"
     ]
    }
   ],
   "source": [
    "# Exercise 8 - OK\n",
    "print(\"\"\"\n",
    "f = lambda x: x.max() + x.min() \\n\n",
    "df_new = df.apply(f)\"\"\")\n",
    "\n",
    "print('Ans: 88')"
   ]
  },
  {
   "cell_type": "code",
   "execution_count": 19,
   "metadata": {},
   "outputs": [
    {
     "output_type": "stream",
     "name": "stdout",
     "text": [
      "new_df.unstack().unstack()\n"
     ]
    }
   ],
   "source": [
    "# Exercise 9 - OK\n",
    "print(\"new_df.unstack().unstack()\")"
   ]
  },
  {
   "cell_type": "code",
   "execution_count": 20,
   "metadata": {},
   "outputs": [
    {
     "output_type": "stream",
     "name": "stdout",
     "text": [
      "df.groupby('Item').sum().iloc[0]['Quantity sold']\n30\n"
     ]
    }
   ],
   "source": [
    "# Exercise 10 - OK\n",
    "print(\"df.groupby('Item').sum().iloc[0]['Quantity sold']\")\n",
    "print(\"30\")"
   ]
  },
  {
   "cell_type": "code",
   "execution_count": null,
   "metadata": {},
   "outputs": [],
   "source": []
  }
 ],
 "metadata": {
  "interpreter": {
   "hash": "a5c211bb6517d1707717133dd53f8f960c78eef83580152631ddfa651c45ffb3"
  },
  "kernelspec": {
   "name": "python391jvsc74a57bd0a5c211bb6517d1707717133dd53f8f960c78eef83580152631ddfa651c45ffb3",
   "display_name": "Python 3.9.1 64-bit ('3.9.1': pyenv)"
  },
  "language_info": {
   "codemirror_mode": {
    "name": "ipython",
    "version": 3
   },
   "file_extension": ".py",
   "mimetype": "text/x-python",
   "name": "python",
   "nbconvert_exporter": "python",
   "pygments_lexer": "ipython3",
   "version": "3.9.1"
  },
  "metadata": {
   "interpreter": {
    "hash": "a5c211bb6517d1707717133dd53f8f960c78eef83580152631ddfa651c45ffb3"
   }
  }
 },
 "nbformat": 4,
 "nbformat_minor": 1
}