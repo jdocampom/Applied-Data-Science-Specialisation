{
 "cells": [
  {
   "cell_type": "markdown",
   "metadata": {},
   "source": [
    "In this lecture we're going to review some of the basics of statistical testing in python. We're going to\n",
    "talk about hypothesis testing, statistical significance, and using scipy to run student's t-tests."
   ]
  },
  {
   "cell_type": "code",
   "execution_count": 1,
   "metadata": {},
   "outputs": [],
   "source": [
    "# We use statistics in a lot of different ways in data science, and on this lecture, I want to refresh your\n",
    "# knowledge of hypothesis testing, which is a core data analysis activity behind experimentation. The goal of\n",
    "# hypothesis testing is to determine if, for instance, the two different conditions we have in an experiment \n",
    "# have resulted in different impacts\n",
    "\n",
    "# Let's import our usual numpy and pandas libraries\n",
    "import numpy as np\n",
    "import pandas as pd\n",
    "\n",
    "# Now let's bring in some new libraries from scipy\n",
    "from scipy import stats"
   ]
  },
  {
   "cell_type": "code",
   "execution_count": 2,
   "metadata": {},
   "outputs": [],
   "source": [
    "# Now, scipy is an interesting collection of libraries for data science and you'll use most or perpahs all of\n",
    "# these libraries. It includes numpy and pandas, but also plotting libraries such as matplotlib, and a\n",
    "# number of scientific library functions as well"
   ]
  },
  {
   "cell_type": "code",
   "execution_count": 3,
   "metadata": {
    "scrolled": true
   },
   "outputs": [
    {
     "output_type": "execute_result",
     "data": {
      "text/plain": [
       "                             student_id  assignment1_grade  \\\n",
       "0  B73F2C11-70F0-E37D-8B10-1D20AFED50B1          92.733946   \n",
       "1  98A0FAE0-A19A-13D2-4BB5-CFBFD94031D1          86.790821   \n",
       "2  D0F62040-CEB0-904C-F563-2F8620916C4E          85.512541   \n",
       "3  FFDF2B2C-F514-EF7F-6538-A6A53518E9DC          86.030665   \n",
       "4  5ECBEEB6-F1CE-80AE-3164-E45E99473FB4          64.813800   \n",
       "\n",
       "          assignment1_submission  assignment2_grade  \\\n",
       "0  2015-11-02 06:55:34.282000000          83.030552   \n",
       "1  2015-11-29 14:57:44.429000000          86.290821   \n",
       "2  2016-01-09 05:36:02.389000000          85.512541   \n",
       "3  2016-04-30 06:50:39.801000000          68.824532   \n",
       "4  2015-12-13 17:06:10.750000000          51.491040   \n",
       "\n",
       "          assignment2_submission  assignment3_grade  \\\n",
       "0  2015-11-09 02:22:58.938000000          67.164441   \n",
       "1  2015-12-06 17:41:18.449000000          69.772657   \n",
       "2  2016-01-09 06:39:44.416000000          68.410033   \n",
       "3  2016-04-30 17:20:38.727000000          61.942079   \n",
       "4  2015-12-14 12:25:12.056000000          41.932832   \n",
       "\n",
       "          assignment3_submission  assignment4_grade  \\\n",
       "0  2015-11-12 08:58:33.998000000          53.011553   \n",
       "1  2015-12-10 08:54:55.904000000          55.098125   \n",
       "2  2016-01-15 20:22:45.882000000          54.728026   \n",
       "3  2016-05-12 07:47:16.326000000          49.553663   \n",
       "4  2015-12-29 14:25:22.594000000          36.929549   \n",
       "\n",
       "          assignment4_submission  assignment5_grade  \\\n",
       "0  2015-11-16 01:21:24.663000000          47.710398   \n",
       "1  2015-12-13 17:32:30.941000000          49.588313   \n",
       "2  2016-01-11 12:41:50.749000000          49.255224   \n",
       "3  2016-05-07 16:09:20.485000000          49.553663   \n",
       "4  2015-12-28 01:29:55.901000000          33.236594   \n",
       "\n",
       "          assignment5_submission  assignment6_grade  \\\n",
       "0  2015-11-20 13:24:59.692000000          38.168318   \n",
       "1  2015-12-19 23:26:39.285000000          44.629482   \n",
       "2  2016-01-11 17:31:12.489000000          44.329701   \n",
       "3  2016-05-24 12:51:18.016000000          44.598297   \n",
       "4  2015-12-29 14:46:06.628000000          33.236594   \n",
       "\n",
       "          assignment6_submission  \n",
       "0  2015-11-22 18:31:15.934000000  \n",
       "1  2015-12-21 17:07:24.275000000  \n",
       "2  2016-01-17 16:24:42.765000000  \n",
       "3  2016-05-26 08:09:12.058000000  \n",
       "4  2016-01-05 01:06:59.546000000  "
      ],
      "text/html": "<div>\n<style scoped>\n    .dataframe tbody tr th:only-of-type {\n        vertical-align: middle;\n    }\n\n    .dataframe tbody tr th {\n        vertical-align: top;\n    }\n\n    .dataframe thead th {\n        text-align: right;\n    }\n</style>\n<table border=\"1\" class=\"dataframe\">\n  <thead>\n    <tr style=\"text-align: right;\">\n      <th></th>\n      <th>student_id</th>\n      <th>assignment1_grade</th>\n      <th>assignment1_submission</th>\n      <th>assignment2_grade</th>\n      <th>assignment2_submission</th>\n      <th>assignment3_grade</th>\n      <th>assignment3_submission</th>\n      <th>assignment4_grade</th>\n      <th>assignment4_submission</th>\n      <th>assignment5_grade</th>\n      <th>assignment5_submission</th>\n      <th>assignment6_grade</th>\n      <th>assignment6_submission</th>\n    </tr>\n  </thead>\n  <tbody>\n    <tr>\n      <th>0</th>\n      <td>B73F2C11-70F0-E37D-8B10-1D20AFED50B1</td>\n      <td>92.733946</td>\n      <td>2015-11-02 06:55:34.282000000</td>\n      <td>83.030552</td>\n      <td>2015-11-09 02:22:58.938000000</td>\n      <td>67.164441</td>\n      <td>2015-11-12 08:58:33.998000000</td>\n      <td>53.011553</td>\n      <td>2015-11-16 01:21:24.663000000</td>\n      <td>47.710398</td>\n      <td>2015-11-20 13:24:59.692000000</td>\n      <td>38.168318</td>\n      <td>2015-11-22 18:31:15.934000000</td>\n    </tr>\n    <tr>\n      <th>1</th>\n      <td>98A0FAE0-A19A-13D2-4BB5-CFBFD94031D1</td>\n      <td>86.790821</td>\n      <td>2015-11-29 14:57:44.429000000</td>\n      <td>86.290821</td>\n      <td>2015-12-06 17:41:18.449000000</td>\n      <td>69.772657</td>\n      <td>2015-12-10 08:54:55.904000000</td>\n      <td>55.098125</td>\n      <td>2015-12-13 17:32:30.941000000</td>\n      <td>49.588313</td>\n      <td>2015-12-19 23:26:39.285000000</td>\n      <td>44.629482</td>\n      <td>2015-12-21 17:07:24.275000000</td>\n    </tr>\n    <tr>\n      <th>2</th>\n      <td>D0F62040-CEB0-904C-F563-2F8620916C4E</td>\n      <td>85.512541</td>\n      <td>2016-01-09 05:36:02.389000000</td>\n      <td>85.512541</td>\n      <td>2016-01-09 06:39:44.416000000</td>\n      <td>68.410033</td>\n      <td>2016-01-15 20:22:45.882000000</td>\n      <td>54.728026</td>\n      <td>2016-01-11 12:41:50.749000000</td>\n      <td>49.255224</td>\n      <td>2016-01-11 17:31:12.489000000</td>\n      <td>44.329701</td>\n      <td>2016-01-17 16:24:42.765000000</td>\n    </tr>\n    <tr>\n      <th>3</th>\n      <td>FFDF2B2C-F514-EF7F-6538-A6A53518E9DC</td>\n      <td>86.030665</td>\n      <td>2016-04-30 06:50:39.801000000</td>\n      <td>68.824532</td>\n      <td>2016-04-30 17:20:38.727000000</td>\n      <td>61.942079</td>\n      <td>2016-05-12 07:47:16.326000000</td>\n      <td>49.553663</td>\n      <td>2016-05-07 16:09:20.485000000</td>\n      <td>49.553663</td>\n      <td>2016-05-24 12:51:18.016000000</td>\n      <td>44.598297</td>\n      <td>2016-05-26 08:09:12.058000000</td>\n    </tr>\n    <tr>\n      <th>4</th>\n      <td>5ECBEEB6-F1CE-80AE-3164-E45E99473FB4</td>\n      <td>64.813800</td>\n      <td>2015-12-13 17:06:10.750000000</td>\n      <td>51.491040</td>\n      <td>2015-12-14 12:25:12.056000000</td>\n      <td>41.932832</td>\n      <td>2015-12-29 14:25:22.594000000</td>\n      <td>36.929549</td>\n      <td>2015-12-28 01:29:55.901000000</td>\n      <td>33.236594</td>\n      <td>2015-12-29 14:46:06.628000000</td>\n      <td>33.236594</td>\n      <td>2016-01-05 01:06:59.546000000</td>\n    </tr>\n  </tbody>\n</table>\n</div>"
     },
     "metadata": {},
     "execution_count": 3
    }
   ],
   "source": [
    "# When we do hypothesis testing, we actually have two statements of interest: the first is our actual\n",
    "# explanation, which we call the alternative hypothesis, and the second is that the explanation we have is not\n",
    "# sufficient, and we call this the null hypothesis. Our actual testing method is to determine whether the null\n",
    "# hypothesis is true or not. If we find that there is a difference between groups, then we can reject the null\n",
    "# hypothesis and we accept our alternative.\n",
    "\n",
    "# Let's see an example of this; we're going to use some grade data\n",
    "df=pd.read_csv ('Datasets/grades.csv')\n",
    "df.head()"
   ]
  },
  {
   "cell_type": "code",
   "execution_count": 4,
   "metadata": {},
   "outputs": [
    {
     "output_type": "stream",
     "name": "stdout",
     "text": [
      "There are 2315 rows and 13 columns\n"
     ]
    }
   ],
   "source": [
    "# If we take a look at the data frame inside, we see we have six different assignments. Lets look at some\n",
    "# summary statistics for this DataFrame\n",
    "print(\"There are {} rows and {} columns\".format(df.shape[0], df.shape[1]))"
   ]
  },
  {
   "cell_type": "code",
   "execution_count": 5,
   "metadata": {
    "scrolled": true
   },
   "outputs": [
    {
     "output_type": "execute_result",
     "data": {
      "text/plain": [
       "                             student_id  assignment1_grade  \\\n",
       "0  B73F2C11-70F0-E37D-8B10-1D20AFED50B1          92.733946   \n",
       "1  98A0FAE0-A19A-13D2-4BB5-CFBFD94031D1          86.790821   \n",
       "4  5ECBEEB6-F1CE-80AE-3164-E45E99473FB4          64.813800   \n",
       "5  D09000A0-827B-C0FF-3433-BF8FF286E15B          71.647278   \n",
       "8  C9D51293-BD58-F113-4167-A7C0BAFCB6E5          66.595568   \n",
       "\n",
       "          assignment1_submission  assignment2_grade  \\\n",
       "0  2015-11-02 06:55:34.282000000          83.030552   \n",
       "1  2015-11-29 14:57:44.429000000          86.290821   \n",
       "4  2015-12-13 17:06:10.750000000          51.491040   \n",
       "5  2015-12-28 04:35:32.836000000          64.052550   \n",
       "8  2015-12-25 02:29:28.415000000          52.916454   \n",
       "\n",
       "          assignment2_submission  assignment3_grade  \\\n",
       "0  2015-11-09 02:22:58.938000000          67.164441   \n",
       "1  2015-12-06 17:41:18.449000000          69.772657   \n",
       "4  2015-12-14 12:25:12.056000000          41.932832   \n",
       "5  2016-01-03 21:05:38.392000000          64.752550   \n",
       "8  2015-12-31 01:42:30.046000000          48.344809   \n",
       "\n",
       "          assignment3_submission  assignment4_grade  \\\n",
       "0  2015-11-12 08:58:33.998000000          53.011553   \n",
       "1  2015-12-10 08:54:55.904000000          55.098125   \n",
       "4  2015-12-29 14:25:22.594000000          36.929549   \n",
       "5  2016-01-07 08:55:43.692000000          57.467295   \n",
       "8  2016-01-05 23:34:02.180000000          47.444809   \n",
       "\n",
       "          assignment4_submission  assignment5_grade  \\\n",
       "0  2015-11-16 01:21:24.663000000          47.710398   \n",
       "1  2015-12-13 17:32:30.941000000          49.588313   \n",
       "4  2015-12-28 01:29:55.901000000          33.236594   \n",
       "5  2016-01-11 00:45:28.706000000          57.467295   \n",
       "8  2016-01-02 07:48:42.517000000          37.955847   \n",
       "\n",
       "          assignment5_submission  assignment6_grade  \\\n",
       "0  2015-11-20 13:24:59.692000000          38.168318   \n",
       "1  2015-12-19 23:26:39.285000000          44.629482   \n",
       "4  2015-12-29 14:46:06.628000000          33.236594   \n",
       "5  2016-01-11 00:54:13.579000000          57.467295   \n",
       "8  2016-01-03 21:27:04.266000000          37.955847   \n",
       "\n",
       "          assignment6_submission  \n",
       "0  2015-11-22 18:31:15.934000000  \n",
       "1  2015-12-21 17:07:24.275000000  \n",
       "4  2016-01-05 01:06:59.546000000  \n",
       "5  2016-01-20 19:54:46.166000000  \n",
       "8  2016-01-19 15:24:31.060000000  "
      ],
      "text/html": "<div>\n<style scoped>\n    .dataframe tbody tr th:only-of-type {\n        vertical-align: middle;\n    }\n\n    .dataframe tbody tr th {\n        vertical-align: top;\n    }\n\n    .dataframe thead th {\n        text-align: right;\n    }\n</style>\n<table border=\"1\" class=\"dataframe\">\n  <thead>\n    <tr style=\"text-align: right;\">\n      <th></th>\n      <th>student_id</th>\n      <th>assignment1_grade</th>\n      <th>assignment1_submission</th>\n      <th>assignment2_grade</th>\n      <th>assignment2_submission</th>\n      <th>assignment3_grade</th>\n      <th>assignment3_submission</th>\n      <th>assignment4_grade</th>\n      <th>assignment4_submission</th>\n      <th>assignment5_grade</th>\n      <th>assignment5_submission</th>\n      <th>assignment6_grade</th>\n      <th>assignment6_submission</th>\n    </tr>\n  </thead>\n  <tbody>\n    <tr>\n      <th>0</th>\n      <td>B73F2C11-70F0-E37D-8B10-1D20AFED50B1</td>\n      <td>92.733946</td>\n      <td>2015-11-02 06:55:34.282000000</td>\n      <td>83.030552</td>\n      <td>2015-11-09 02:22:58.938000000</td>\n      <td>67.164441</td>\n      <td>2015-11-12 08:58:33.998000000</td>\n      <td>53.011553</td>\n      <td>2015-11-16 01:21:24.663000000</td>\n      <td>47.710398</td>\n      <td>2015-11-20 13:24:59.692000000</td>\n      <td>38.168318</td>\n      <td>2015-11-22 18:31:15.934000000</td>\n    </tr>\n    <tr>\n      <th>1</th>\n      <td>98A0FAE0-A19A-13D2-4BB5-CFBFD94031D1</td>\n      <td>86.790821</td>\n      <td>2015-11-29 14:57:44.429000000</td>\n      <td>86.290821</td>\n      <td>2015-12-06 17:41:18.449000000</td>\n      <td>69.772657</td>\n      <td>2015-12-10 08:54:55.904000000</td>\n      <td>55.098125</td>\n      <td>2015-12-13 17:32:30.941000000</td>\n      <td>49.588313</td>\n      <td>2015-12-19 23:26:39.285000000</td>\n      <td>44.629482</td>\n      <td>2015-12-21 17:07:24.275000000</td>\n    </tr>\n    <tr>\n      <th>4</th>\n      <td>5ECBEEB6-F1CE-80AE-3164-E45E99473FB4</td>\n      <td>64.813800</td>\n      <td>2015-12-13 17:06:10.750000000</td>\n      <td>51.491040</td>\n      <td>2015-12-14 12:25:12.056000000</td>\n      <td>41.932832</td>\n      <td>2015-12-29 14:25:22.594000000</td>\n      <td>36.929549</td>\n      <td>2015-12-28 01:29:55.901000000</td>\n      <td>33.236594</td>\n      <td>2015-12-29 14:46:06.628000000</td>\n      <td>33.236594</td>\n      <td>2016-01-05 01:06:59.546000000</td>\n    </tr>\n    <tr>\n      <th>5</th>\n      <td>D09000A0-827B-C0FF-3433-BF8FF286E15B</td>\n      <td>71.647278</td>\n      <td>2015-12-28 04:35:32.836000000</td>\n      <td>64.052550</td>\n      <td>2016-01-03 21:05:38.392000000</td>\n      <td>64.752550</td>\n      <td>2016-01-07 08:55:43.692000000</td>\n      <td>57.467295</td>\n      <td>2016-01-11 00:45:28.706000000</td>\n      <td>57.467295</td>\n      <td>2016-01-11 00:54:13.579000000</td>\n      <td>57.467295</td>\n      <td>2016-01-20 19:54:46.166000000</td>\n    </tr>\n    <tr>\n      <th>8</th>\n      <td>C9D51293-BD58-F113-4167-A7C0BAFCB6E5</td>\n      <td>66.595568</td>\n      <td>2015-12-25 02:29:28.415000000</td>\n      <td>52.916454</td>\n      <td>2015-12-31 01:42:30.046000000</td>\n      <td>48.344809</td>\n      <td>2016-01-05 23:34:02.180000000</td>\n      <td>47.444809</td>\n      <td>2016-01-02 07:48:42.517000000</td>\n      <td>37.955847</td>\n      <td>2016-01-03 21:27:04.266000000</td>\n      <td>37.955847</td>\n      <td>2016-01-19 15:24:31.060000000</td>\n    </tr>\n  </tbody>\n</table>\n</div>"
     },
     "metadata": {},
     "execution_count": 5
    }
   ],
   "source": [
    "# For the purpose of this lecture, let's segment this population into two pieces. Let's say those who finish\n",
    "# the first assignment by the end of December 2015, we'll call them early finishers, and those who finish it \n",
    "# sometime after that, we'll call them late finishers.\n",
    "\n",
    "early_finishers=df[pd.to_datetime(df['assignment1_submission']) < '2016']\n",
    "early_finishers.head()"
   ]
  },
  {
   "cell_type": "code",
   "execution_count": 6,
   "metadata": {},
   "outputs": [],
   "source": [
    "# So, you have lots of skills now with pandas, how would you go about getting the late_finishers dataframe?\n",
    "# Why don't you pause the video and give it a try."
   ]
  },
  {
   "cell_type": "code",
   "execution_count": 7,
   "metadata": {},
   "outputs": [
    {
     "output_type": "execute_result",
     "data": {
      "text/plain": [
       "                             student_id  assignment1_grade  \\\n",
       "2  D0F62040-CEB0-904C-F563-2F8620916C4E          85.512541   \n",
       "3  FFDF2B2C-F514-EF7F-6538-A6A53518E9DC          86.030665   \n",
       "6  3217BE3F-E4B0-C3B6-9F64-462456819CE4          87.498744   \n",
       "7  F1CB5AA1-B3DE-5460-FAFF-BE951FD38B5F          80.576090   \n",
       "9  E2C617C2-4654-622C-AB50-1550C4BE42A0          59.270882   \n",
       "\n",
       "          assignment1_submission  assignment2_grade  \\\n",
       "2  2016-01-09 05:36:02.389000000          85.512541   \n",
       "3  2016-04-30 06:50:39.801000000          68.824532   \n",
       "6  2016-03-05 11:05:25.408000000          69.998995   \n",
       "7  2016-01-24 18:24:25.619000000          72.518481   \n",
       "9  2016-03-06 12:06:26.185000000          59.270882   \n",
       "\n",
       "          assignment2_submission  assignment3_grade  \\\n",
       "2  2016-01-09 06:39:44.416000000          68.410033   \n",
       "3  2016-04-30 17:20:38.727000000          61.942079   \n",
       "6  2016-03-09 07:29:52.405000000          55.999196   \n",
       "7  2016-01-27 13:37:12.943000000          65.266633   \n",
       "9  2016-03-13 02:07:25.289000000          53.343794   \n",
       "\n",
       "          assignment3_submission  assignment4_grade  \\\n",
       "2  2016-01-15 20:22:45.882000000          54.728026   \n",
       "3  2016-05-12 07:47:16.326000000          49.553663   \n",
       "6  2016-03-16 22:31:24.316000000          50.399276   \n",
       "7  2016-01-30 14:34:36.581000000          65.266633   \n",
       "9  2016-03-17 07:30:09.241000000          53.343794   \n",
       "\n",
       "          assignment4_submission  assignment5_grade  \\\n",
       "2  2016-01-11 12:41:50.749000000          49.255224   \n",
       "3  2016-05-07 16:09:20.485000000          49.553663   \n",
       "6  2016-03-18 07:19:26.032000000          45.359349   \n",
       "7  2016-02-03 22:08:49.002000000          65.266633   \n",
       "9  2016-03-20 21:45:56.229000000          42.675035   \n",
       "\n",
       "          assignment5_submission  assignment6_grade  \\\n",
       "2  2016-01-11 17:31:12.489000000          44.329701   \n",
       "3  2016-05-24 12:51:18.016000000          44.598297   \n",
       "6  2016-03-19 10:35:41.869000000          45.359349   \n",
       "7  2016-02-16 14:22:23.664000000          65.266633   \n",
       "9  2016-03-27 15:55:04.414000000          38.407532   \n",
       "\n",
       "          assignment6_submission  \n",
       "2  2016-01-17 16:24:42.765000000  \n",
       "3  2016-05-26 08:09:12.058000000  \n",
       "6  2016-03-23 14:02:00.987000000  \n",
       "7  2016-02-18 08:35:04.796000000  \n",
       "9  2016-03-30 20:33:13.554000000  "
      ],
      "text/html": "<div>\n<style scoped>\n    .dataframe tbody tr th:only-of-type {\n        vertical-align: middle;\n    }\n\n    .dataframe tbody tr th {\n        vertical-align: top;\n    }\n\n    .dataframe thead th {\n        text-align: right;\n    }\n</style>\n<table border=\"1\" class=\"dataframe\">\n  <thead>\n    <tr style=\"text-align: right;\">\n      <th></th>\n      <th>student_id</th>\n      <th>assignment1_grade</th>\n      <th>assignment1_submission</th>\n      <th>assignment2_grade</th>\n      <th>assignment2_submission</th>\n      <th>assignment3_grade</th>\n      <th>assignment3_submission</th>\n      <th>assignment4_grade</th>\n      <th>assignment4_submission</th>\n      <th>assignment5_grade</th>\n      <th>assignment5_submission</th>\n      <th>assignment6_grade</th>\n      <th>assignment6_submission</th>\n    </tr>\n  </thead>\n  <tbody>\n    <tr>\n      <th>2</th>\n      <td>D0F62040-CEB0-904C-F563-2F8620916C4E</td>\n      <td>85.512541</td>\n      <td>2016-01-09 05:36:02.389000000</td>\n      <td>85.512541</td>\n      <td>2016-01-09 06:39:44.416000000</td>\n      <td>68.410033</td>\n      <td>2016-01-15 20:22:45.882000000</td>\n      <td>54.728026</td>\n      <td>2016-01-11 12:41:50.749000000</td>\n      <td>49.255224</td>\n      <td>2016-01-11 17:31:12.489000000</td>\n      <td>44.329701</td>\n      <td>2016-01-17 16:24:42.765000000</td>\n    </tr>\n    <tr>\n      <th>3</th>\n      <td>FFDF2B2C-F514-EF7F-6538-A6A53518E9DC</td>\n      <td>86.030665</td>\n      <td>2016-04-30 06:50:39.801000000</td>\n      <td>68.824532</td>\n      <td>2016-04-30 17:20:38.727000000</td>\n      <td>61.942079</td>\n      <td>2016-05-12 07:47:16.326000000</td>\n      <td>49.553663</td>\n      <td>2016-05-07 16:09:20.485000000</td>\n      <td>49.553663</td>\n      <td>2016-05-24 12:51:18.016000000</td>\n      <td>44.598297</td>\n      <td>2016-05-26 08:09:12.058000000</td>\n    </tr>\n    <tr>\n      <th>6</th>\n      <td>3217BE3F-E4B0-C3B6-9F64-462456819CE4</td>\n      <td>87.498744</td>\n      <td>2016-03-05 11:05:25.408000000</td>\n      <td>69.998995</td>\n      <td>2016-03-09 07:29:52.405000000</td>\n      <td>55.999196</td>\n      <td>2016-03-16 22:31:24.316000000</td>\n      <td>50.399276</td>\n      <td>2016-03-18 07:19:26.032000000</td>\n      <td>45.359349</td>\n      <td>2016-03-19 10:35:41.869000000</td>\n      <td>45.359349</td>\n      <td>2016-03-23 14:02:00.987000000</td>\n    </tr>\n    <tr>\n      <th>7</th>\n      <td>F1CB5AA1-B3DE-5460-FAFF-BE951FD38B5F</td>\n      <td>80.576090</td>\n      <td>2016-01-24 18:24:25.619000000</td>\n      <td>72.518481</td>\n      <td>2016-01-27 13:37:12.943000000</td>\n      <td>65.266633</td>\n      <td>2016-01-30 14:34:36.581000000</td>\n      <td>65.266633</td>\n      <td>2016-02-03 22:08:49.002000000</td>\n      <td>65.266633</td>\n      <td>2016-02-16 14:22:23.664000000</td>\n      <td>65.266633</td>\n      <td>2016-02-18 08:35:04.796000000</td>\n    </tr>\n    <tr>\n      <th>9</th>\n      <td>E2C617C2-4654-622C-AB50-1550C4BE42A0</td>\n      <td>59.270882</td>\n      <td>2016-03-06 12:06:26.185000000</td>\n      <td>59.270882</td>\n      <td>2016-03-13 02:07:25.289000000</td>\n      <td>53.343794</td>\n      <td>2016-03-17 07:30:09.241000000</td>\n      <td>53.343794</td>\n      <td>2016-03-20 21:45:56.229000000</td>\n      <td>42.675035</td>\n      <td>2016-03-27 15:55:04.414000000</td>\n      <td>38.407532</td>\n      <td>2016-03-30 20:33:13.554000000</td>\n    </tr>\n  </tbody>\n</table>\n</div>"
     },
     "metadata": {},
     "execution_count": 7
    }
   ],
   "source": [
    "# Here's my solution. First, the dataframe df and the early_finishers share index values, so I really just\n",
    "# want everything in the df which is not in early_finishers\n",
    "late_finishers=df[~df.index.isin(early_finishers.index)]\n",
    "late_finishers.head()"
   ]
  },
  {
   "cell_type": "code",
   "execution_count": 8,
   "metadata": {},
   "outputs": [],
   "source": [
    "# There are lots of other ways to do this. For instance, you could just copy and paste the first projection\n",
    "# and change the sign from less than to greater than or equal to. This is ok, but if you decide you want to\n",
    "# change the date down the road you have to remember to change it in two places. You could also do a join of\n",
    "# the dataframe df with early_finishers - if you do a left join you only keep the items in the left dataframe,\n",
    "# so this would have been a good answer. You also could have written a function that determines if someone is\n",
    "# early or late, and then called .apply() on the dataframe and added a new column to the dataframe. This is a\n",
    "# pretty reasonable answer as well."
   ]
  },
  {
   "cell_type": "code",
   "execution_count": 9,
   "metadata": {},
   "outputs": [
    {
     "output_type": "stream",
     "name": "stdout",
     "text": [
      "74.94728457024304\n74.0450648477065\n"
     ]
    }
   ],
   "source": [
    "# As you've seen, the pandas data frame object has a variety of statistical functions associated with it. If\n",
    "# we call the mean function directly on the data frame, we see that each of the means for the assignments are\n",
    "# calculated. Let's compare the means for our two populations\n",
    "\n",
    "print(early_finishers['assignment1_grade'].mean())\n",
    "print(late_finishers['assignment1_grade'].mean())"
   ]
  },
  {
   "cell_type": "code",
   "execution_count": 10,
   "metadata": {},
   "outputs": [
    {
     "output_type": "execute_result",
     "data": {
      "text/plain": [
       "Ttest_indResult(statistic=1.3223540853721596, pvalue=0.18618101101713855)"
      ]
     },
     "metadata": {},
     "execution_count": 10
    }
   ],
   "source": [
    "# Ok, these look pretty similar. But, are they the same? What do we mean by similar? This is where the\n",
    "# students' t-test comes in. It allows us to form the alternative hypothesis (\"These are different\") as well\n",
    "# as the null hypothesis (\"These are the same\") and then test that null hypothesis.\n",
    "\n",
    "# When doing hypothesis testing, we have to choose a significance level as a threshold for how much of a\n",
    "# chance we're willing to accept. This significance level is typically called alpha. #For this example, let's\n",
    "# use a threshold of 0.05 for our alpha or 5%. Now this is a commonly used number but it's really quite\n",
    "# arbitrary.\n",
    "\n",
    "# The SciPy library contains a number of different statistical tests and forms a basis for hypothesis testing\n",
    "# in Python and we're going to use the ttest_ind() function which does an independent t-test (meaning the\n",
    "# populations are not related to one another). The result of ttest_index() are the t-statistic and a p-value.\n",
    "# It's this latter value, the probability, which is most important to us, as it indicates the chance (between\n",
    "# 0 and 1) of our null hypothesis being True.\n",
    "\n",
    "# Let's bring in our ttest_ind function\n",
    "from scipy.stats import ttest_ind\n",
    "\n",
    "# Let's run this function with our two populations, looking at the assignment 1 grades\n",
    "ttest_ind(early_finishers['assignment1_grade'], late_finishers['assignment1_grade'])"
   ]
  },
  {
   "cell_type": "code",
   "execution_count": 11,
   "metadata": {},
   "outputs": [],
   "source": [
    "# So here we see that the probability is 0.18, and this is above our alpha value of 0.05. This means that we\n",
    "# cannot reject the null hypothesis. The null hypothesis was that the two populations are the same, and we\n",
    "# don't have enough certainty in our evidence (because it is greater than alpha) to come to a conclusion to\n",
    "# the contrary. This doesn't mean that we have proven the populations are the same."
   ]
  },
  {
   "cell_type": "code",
   "execution_count": 12,
   "metadata": {},
   "outputs": [
    {
     "output_type": "stream",
     "name": "stdout",
     "text": [
      "Ttest_indResult(statistic=1.2514717608216366, pvalue=0.2108889627004424)\nTtest_indResult(statistic=1.6133726558705392, pvalue=0.10679998102227865)\nTtest_indResult(statistic=0.049671157386456125, pvalue=0.960388729789337)\nTtest_indResult(statistic=-0.05279315545404755, pvalue=0.9579012739746492)\nTtest_indResult(statistic=-0.11609743352612056, pvalue=0.9075854011989656)\n"
     ]
    }
   ],
   "source": [
    "# Why don't we check the other assignment grades?\n",
    "print(ttest_ind(early_finishers['assignment2_grade'], late_finishers['assignment2_grade']))\n",
    "print(ttest_ind(early_finishers['assignment3_grade'], late_finishers['assignment3_grade']))\n",
    "print(ttest_ind(early_finishers['assignment4_grade'], late_finishers['assignment4_grade']))\n",
    "print(ttest_ind(early_finishers['assignment5_grade'], late_finishers['assignment5_grade']))\n",
    "print(ttest_ind(early_finishers['assignment6_grade'], late_finishers['assignment6_grade']))"
   ]
  },
  {
   "cell_type": "code",
   "execution_count": 13,
   "metadata": {},
   "outputs": [],
   "source": [
    "# Ok, so it looks like in this data we do not have enough evidence to suggest the populations differ with\n",
    "# respect to grade. Let's take a look at those p-values for a moment though, because they are saying things\n",
    "# that can inform experimental design down the road. For instance, one of the assignments, assignment 3, has a\n",
    "# p-value around 0.1. This means that if we accepted a level of chance similarity of 11% this would have been\n",
    "# considered statistically significant. As a research, this would suggest to me that there is something here\n",
    "# worth considering following up on. For instance, if we had a small number of participants (we don't) or if\n",
    "# there was something unique about this assignment as it relates to our experiment (whatever it was) then\n",
    "# there may be followup experiments we could run."
   ]
  },
  {
   "cell_type": "code",
   "execution_count": 14,
   "metadata": {},
   "outputs": [
    {
     "output_type": "execute_result",
     "data": {
      "text/plain": [
       "         0         1         2         3         4         5         6   \\\n",
       "0  0.983759  0.722417  0.931194  0.083126  0.813914  0.557849  0.499256   \n",
       "1  0.009251  0.935242  0.542354  0.182632  0.166121  0.002253  0.128635   \n",
       "2  0.026642  0.058281  0.538085  0.256377  0.279935  0.494207  0.415091   \n",
       "3  0.811479  0.180670  0.509672  0.672678  0.723639  0.963955  0.272805   \n",
       "4  0.187477  0.865417  0.291872  0.149676  0.767903  0.496488  0.139018   \n",
       "\n",
       "         7         8         9   ...        90        91        92        93  \\\n",
       "0  0.124803  0.123426  0.563387  ...  0.516069  0.265101  0.460763  0.335836   \n",
       "1  0.483738  0.262361  0.534814  ...  0.808419  0.465945  0.767404  0.795352   \n",
       "2  0.328793  0.164972  0.890043  ...  0.000436  0.491900  0.843602  0.338131   \n",
       "3  0.303628  0.498028  0.148233  ...  0.450639  0.734236  0.725895  0.968429   \n",
       "4  0.776255  0.225731  0.676144  ...  0.351295  0.538028  0.464661  0.984965   \n",
       "\n",
       "         94        95        96        97        98        99  \n",
       "0  0.446606  0.172292  0.959113  0.719772  0.374546  0.449129  \n",
       "1  0.436511  0.668520  0.789290  0.330184  0.317118  0.011930  \n",
       "2  0.961354  0.107267  0.385285  0.477480  0.340741  0.849974  \n",
       "3  0.161434  0.707828  0.635068  0.989337  0.499408  0.327881  \n",
       "4  0.496621  0.804726  0.556818  0.581650  0.552893  0.570926  \n",
       "\n",
       "[5 rows x 100 columns]"
      ],
      "text/html": "<div>\n<style scoped>\n    .dataframe tbody tr th:only-of-type {\n        vertical-align: middle;\n    }\n\n    .dataframe tbody tr th {\n        vertical-align: top;\n    }\n\n    .dataframe thead th {\n        text-align: right;\n    }\n</style>\n<table border=\"1\" class=\"dataframe\">\n  <thead>\n    <tr style=\"text-align: right;\">\n      <th></th>\n      <th>0</th>\n      <th>1</th>\n      <th>2</th>\n      <th>3</th>\n      <th>4</th>\n      <th>5</th>\n      <th>6</th>\n      <th>7</th>\n      <th>8</th>\n      <th>9</th>\n      <th>...</th>\n      <th>90</th>\n      <th>91</th>\n      <th>92</th>\n      <th>93</th>\n      <th>94</th>\n      <th>95</th>\n      <th>96</th>\n      <th>97</th>\n      <th>98</th>\n      <th>99</th>\n    </tr>\n  </thead>\n  <tbody>\n    <tr>\n      <th>0</th>\n      <td>0.983759</td>\n      <td>0.722417</td>\n      <td>0.931194</td>\n      <td>0.083126</td>\n      <td>0.813914</td>\n      <td>0.557849</td>\n      <td>0.499256</td>\n      <td>0.124803</td>\n      <td>0.123426</td>\n      <td>0.563387</td>\n      <td>...</td>\n      <td>0.516069</td>\n      <td>0.265101</td>\n      <td>0.460763</td>\n      <td>0.335836</td>\n      <td>0.446606</td>\n      <td>0.172292</td>\n      <td>0.959113</td>\n      <td>0.719772</td>\n      <td>0.374546</td>\n      <td>0.449129</td>\n    </tr>\n    <tr>\n      <th>1</th>\n      <td>0.009251</td>\n      <td>0.935242</td>\n      <td>0.542354</td>\n      <td>0.182632</td>\n      <td>0.166121</td>\n      <td>0.002253</td>\n      <td>0.128635</td>\n      <td>0.483738</td>\n      <td>0.262361</td>\n      <td>0.534814</td>\n      <td>...</td>\n      <td>0.808419</td>\n      <td>0.465945</td>\n      <td>0.767404</td>\n      <td>0.795352</td>\n      <td>0.436511</td>\n      <td>0.668520</td>\n      <td>0.789290</td>\n      <td>0.330184</td>\n      <td>0.317118</td>\n      <td>0.011930</td>\n    </tr>\n    <tr>\n      <th>2</th>\n      <td>0.026642</td>\n      <td>0.058281</td>\n      <td>0.538085</td>\n      <td>0.256377</td>\n      <td>0.279935</td>\n      <td>0.494207</td>\n      <td>0.415091</td>\n      <td>0.328793</td>\n      <td>0.164972</td>\n      <td>0.890043</td>\n      <td>...</td>\n      <td>0.000436</td>\n      <td>0.491900</td>\n      <td>0.843602</td>\n      <td>0.338131</td>\n      <td>0.961354</td>\n      <td>0.107267</td>\n      <td>0.385285</td>\n      <td>0.477480</td>\n      <td>0.340741</td>\n      <td>0.849974</td>\n    </tr>\n    <tr>\n      <th>3</th>\n      <td>0.811479</td>\n      <td>0.180670</td>\n      <td>0.509672</td>\n      <td>0.672678</td>\n      <td>0.723639</td>\n      <td>0.963955</td>\n      <td>0.272805</td>\n      <td>0.303628</td>\n      <td>0.498028</td>\n      <td>0.148233</td>\n      <td>...</td>\n      <td>0.450639</td>\n      <td>0.734236</td>\n      <td>0.725895</td>\n      <td>0.968429</td>\n      <td>0.161434</td>\n      <td>0.707828</td>\n      <td>0.635068</td>\n      <td>0.989337</td>\n      <td>0.499408</td>\n      <td>0.327881</td>\n    </tr>\n    <tr>\n      <th>4</th>\n      <td>0.187477</td>\n      <td>0.865417</td>\n      <td>0.291872</td>\n      <td>0.149676</td>\n      <td>0.767903</td>\n      <td>0.496488</td>\n      <td>0.139018</td>\n      <td>0.776255</td>\n      <td>0.225731</td>\n      <td>0.676144</td>\n      <td>...</td>\n      <td>0.351295</td>\n      <td>0.538028</td>\n      <td>0.464661</td>\n      <td>0.984965</td>\n      <td>0.496621</td>\n      <td>0.804726</td>\n      <td>0.556818</td>\n      <td>0.581650</td>\n      <td>0.552893</td>\n      <td>0.570926</td>\n    </tr>\n  </tbody>\n</table>\n<p>5 rows × 100 columns</p>\n</div>"
     },
     "metadata": {},
     "execution_count": 14
    }
   ],
   "source": [
    "# P-values have come under fire recently for being insuficient for telling us enough about the interactions\n",
    "# which are happening, and two other techniques, confidence intervalues and bayesian analyses, are being used\n",
    "# more regularly. One issue with p-values is that as you run more tests you are likely to get a value which\n",
    "# is statistically significant just by chance.\n",
    "\n",
    "# Lets see a simulation of this. First, lets create a data frame of 100 columns, each with 100 numbers\n",
    "df1=pd.DataFrame([np.random.random(100) for x in range(100)])\n",
    "df1.head()"
   ]
  },
  {
   "cell_type": "code",
   "execution_count": 15,
   "metadata": {},
   "outputs": [],
   "source": [
    "# Pause this and reflect -- do you understand the list comprehension and how I created this DataFrame? You\n",
    "# don't have to use a list comprehension to do this, but you should be able to read this and figure out how it\n",
    "# works as this is a commonly used approach on web forums."
   ]
  },
  {
   "cell_type": "code",
   "execution_count": 16,
   "metadata": {},
   "outputs": [],
   "source": [
    "# Ok, let's create a second dataframe\n",
    "df2=pd.DataFrame([np.random.random(100) for x in range(100)])"
   ]
  },
  {
   "cell_type": "code",
   "execution_count": 17,
   "metadata": {},
   "outputs": [
    {
     "output_type": "stream",
     "name": "stdout",
     "text": [
      "Col 15 is statistically significantly different at alpha=0.1, pval=0.05274945530178094\nCol 17 is statistically significantly different at alpha=0.1, pval=0.03482469381580025\nCol 22 is statistically significantly different at alpha=0.1, pval=0.014075889740122527\nCol 41 is statistically significantly different at alpha=0.1, pval=0.059475958728682915\nCol 45 is statistically significantly different at alpha=0.1, pval=0.03511618935590623\nCol 46 is statistically significantly different at alpha=0.1, pval=0.0016608601262341842\nCol 52 is statistically significantly different at alpha=0.1, pval=0.07112823139756051\nCol 62 is statistically significantly different at alpha=0.1, pval=0.04884285172979108\nCol 91 is statistically significantly different at alpha=0.1, pval=0.0662929017695478\nTotal number different was 9, which is 9.0%\n"
     ]
    }
   ],
   "source": [
    "# Are these two DataFrames the same? Maybe a better question is, for a given row inside of df1, is it the same\n",
    "# as the row inside df2?\n",
    "\n",
    "# Let's take a look. Let's say our critical value is 0.1, or and alpha of 10%. And we're going to compare each\n",
    "# column in df1 to the same numbered column in df2. And we'll report when the p-value isn't less than 10%,\n",
    "# which means that we have sufficient evidence to say that the columns are different.\n",
    "\n",
    "# Let's write this in a function called test_columns\n",
    "def test_columns(alpha=0.1):\n",
    "    # I want to keep track of how many differ\n",
    "    num_diff=0\n",
    "    # And now we can just iterate over the columns\n",
    "    for col in df1.columns:\n",
    "        # we can run out ttest_ind between the two dataframes\n",
    "        teststat,pval=ttest_ind(df1[col],df2[col])\n",
    "        # and we check the pvalue versus the alpha\n",
    "        if pval<=alpha:\n",
    "            # And now we'll just print out if they are different and increment the num_diff\n",
    "            print(\"Col {} is statistically significantly different at alpha={}, pval={}\".format(col,alpha,pval))\n",
    "            num_diff=num_diff+1\n",
    "    # and let's print out some summary stats\n",
    "    print(\"Total number different was {}, which is {}%\".format(num_diff,float(num_diff)/len(df1.columns)*100))\n",
    "\n",
    "# And now lets actually run this\n",
    "test_columns()"
   ]
  },
  {
   "cell_type": "code",
   "execution_count": 18,
   "metadata": {},
   "outputs": [
    {
     "output_type": "stream",
     "name": "stdout",
     "text": [
      "Col 17 is statistically significantly different at alpha=0.05, pval=0.03482469381580025\nCol 22 is statistically significantly different at alpha=0.05, pval=0.014075889740122527\nCol 45 is statistically significantly different at alpha=0.05, pval=0.03511618935590623\nCol 46 is statistically significantly different at alpha=0.05, pval=0.0016608601262341842\nCol 62 is statistically significantly different at alpha=0.05, pval=0.04884285172979108\nTotal number different was 5, which is 5.0%\n"
     ]
    }
   ],
   "source": [
    "# Interesting, so we see that there are a bunch of columns that are different! In fact, that number looks a\n",
    "# lot like the alpha value we chose. So what's going on - shouldn't all of the columns be the same? Remember\n",
    "# that all the ttest does is check if two sets are similar given some level of confidence, in our case, 10%.\n",
    "# The more random comparisons you do, the more will just happen to be the same by chance. In this example, we\n",
    "# checked 100 columns, so we would expect there to be roughly 10 of them if our alpha was 0.1.\n",
    "\n",
    "# We can test some other alpha values as well\n",
    "test_columns(0.05)"
   ]
  },
  {
   "cell_type": "code",
   "execution_count": 19,
   "metadata": {},
   "outputs": [
    {
     "output_type": "stream",
     "name": "stdout",
     "text": [
      "Col 0 is statistically significantly different at alpha=0.1, pval=0.0013438308786706357\nCol 1 is statistically significantly different at alpha=0.1, pval=0.0010310045267282358\nCol 2 is statistically significantly different at alpha=0.1, pval=0.0007709003524474006\nCol 3 is statistically significantly different at alpha=0.1, pval=0.002089491379676795\nCol 4 is statistically significantly different at alpha=0.1, pval=0.0009527734175946008\nCol 5 is statistically significantly different at alpha=0.1, pval=4.650686081734413e-05\nCol 6 is statistically significantly different at alpha=0.1, pval=0.0005918002160501084\nCol 7 is statistically significantly different at alpha=0.1, pval=0.01219403515249811\nCol 8 is statistically significantly different at alpha=0.1, pval=0.00016153894431380917\nCol 9 is statistically significantly different at alpha=0.1, pval=0.012222778265770463\nCol 10 is statistically significantly different at alpha=0.1, pval=0.0017025650493484874\nCol 11 is statistically significantly different at alpha=0.1, pval=1.0857326476866811e-05\nCol 12 is statistically significantly different at alpha=0.1, pval=0.002054156290779757\nCol 13 is statistically significantly different at alpha=0.1, pval=0.0003021920286692717\nCol 14 is statistically significantly different at alpha=0.1, pval=0.0001759401372679127\nCol 15 is statistically significantly different at alpha=0.1, pval=0.0001376586316655051\nCol 16 is statistically significantly different at alpha=0.1, pval=0.015766499530782612\nCol 17 is statistically significantly different at alpha=0.1, pval=0.008868059967390502\nCol 18 is statistically significantly different at alpha=0.1, pval=5.930568931749984e-05\nCol 19 is statistically significantly different at alpha=0.1, pval=0.0017301258734758005\nCol 20 is statistically significantly different at alpha=0.1, pval=0.0037387889854956853\nCol 21 is statistically significantly different at alpha=0.1, pval=0.00012489038268884497\nCol 22 is statistically significantly different at alpha=0.1, pval=0.0025611726381243346\nCol 23 is statistically significantly different at alpha=0.1, pval=0.00016246603825537177\nCol 24 is statistically significantly different at alpha=0.1, pval=0.0054115966436897745\nCol 25 is statistically significantly different at alpha=0.1, pval=0.003724194816294169\nCol 26 is statistically significantly different at alpha=0.1, pval=0.01651793149063198\nCol 27 is statistically significantly different at alpha=0.1, pval=0.01606096377310591\nCol 28 is statistically significantly different at alpha=0.1, pval=9.62005795919671e-05\nCol 29 is statistically significantly different at alpha=0.1, pval=0.002165378193142249\nCol 30 is statistically significantly different at alpha=0.1, pval=0.0007365937672788151\nCol 31 is statistically significantly different at alpha=0.1, pval=0.003990151749638543\nCol 32 is statistically significantly different at alpha=0.1, pval=7.560235678286996e-05\nCol 33 is statistically significantly different at alpha=0.1, pval=0.0007548227197302846\nCol 34 is statistically significantly different at alpha=0.1, pval=7.003494798245655e-08\nCol 35 is statistically significantly different at alpha=0.1, pval=0.0037382905468415772\nCol 36 is statistically significantly different at alpha=0.1, pval=1.8138725489565502e-05\nCol 37 is statistically significantly different at alpha=0.1, pval=0.023218872971481917\nCol 38 is statistically significantly different at alpha=0.1, pval=0.0002661305840242803\nCol 39 is statistically significantly different at alpha=0.1, pval=0.002009716390550052\nCol 40 is statistically significantly different at alpha=0.1, pval=0.0007654798154771929\nCol 41 is statistically significantly different at alpha=0.1, pval=0.008799909781523896\nCol 42 is statistically significantly different at alpha=0.1, pval=0.001108199020258235\nCol 43 is statistically significantly different at alpha=0.1, pval=2.5429072930082387e-05\nCol 44 is statistically significantly different at alpha=0.1, pval=8.069910209024669e-07\nCol 45 is statistically significantly different at alpha=0.1, pval=0.016110907769023814\nCol 46 is statistically significantly different at alpha=0.1, pval=1.9014105495557583e-05\nCol 47 is statistically significantly different at alpha=0.1, pval=2.6610156657853252e-05\nCol 48 is statistically significantly different at alpha=0.1, pval=0.0030337250049133554\nCol 49 is statistically significantly different at alpha=0.1, pval=0.0027066586371329716\nCol 50 is statistically significantly different at alpha=0.1, pval=0.0055122789039436845\nCol 51 is statistically significantly different at alpha=0.1, pval=0.005370710998519903\nCol 52 is statistically significantly different at alpha=0.1, pval=0.0013985548540810966\nCol 53 is statistically significantly different at alpha=0.1, pval=0.004345537154653895\nCol 54 is statistically significantly different at alpha=0.1, pval=0.00015199292598162164\nCol 55 is statistically significantly different at alpha=0.1, pval=0.0002389965123960441\nCol 56 is statistically significantly different at alpha=0.1, pval=0.012019064831927615\nCol 57 is statistically significantly different at alpha=0.1, pval=0.00017428319494941798\nCol 58 is statistically significantly different at alpha=0.1, pval=0.0005139695373633428\nCol 59 is statistically significantly different at alpha=0.1, pval=2.870663281640972e-05\nCol 60 is statistically significantly different at alpha=0.1, pval=0.0002501807116324175\nCol 61 is statistically significantly different at alpha=0.1, pval=7.512627405692767e-06\nCol 62 is statistically significantly different at alpha=0.1, pval=0.00010603989899647193\nCol 63 is statistically significantly different at alpha=0.1, pval=0.00014482586685625497\nCol 64 is statistically significantly different at alpha=0.1, pval=0.0003962623144728194\nCol 65 is statistically significantly different at alpha=0.1, pval=9.484501852300128e-05\nCol 66 is statistically significantly different at alpha=0.1, pval=0.0030560463552306966\nCol 67 is statistically significantly different at alpha=0.1, pval=0.022875327955513922\nCol 68 is statistically significantly different at alpha=0.1, pval=8.070647814333601e-05\nCol 69 is statistically significantly different at alpha=0.1, pval=2.631696833347508e-05\nCol 70 is statistically significantly different at alpha=0.1, pval=0.00920625637068458\nCol 71 is statistically significantly different at alpha=0.1, pval=0.00016970102590889812\nCol 72 is statistically significantly different at alpha=0.1, pval=0.0004563537159550581\nCol 74 is statistically significantly different at alpha=0.1, pval=0.0009559800523413236\nCol 75 is statistically significantly different at alpha=0.1, pval=3.529444048147168e-05\nCol 76 is statistically significantly different at alpha=0.1, pval=0.0004986035554705618\nCol 77 is statistically significantly different at alpha=0.1, pval=0.000628229982269981\nCol 78 is statistically significantly different at alpha=0.1, pval=0.00989463197526073\nCol 79 is statistically significantly different at alpha=0.1, pval=1.0390911276255412e-05\nCol 80 is statistically significantly different at alpha=0.1, pval=0.03281408231599046\nCol 81 is statistically significantly different at alpha=0.1, pval=0.0011760788438880084\nCol 82 is statistically significantly different at alpha=0.1, pval=0.000594056813123425\nCol 83 is statistically significantly different at alpha=0.1, pval=1.2639336050844347e-06\nCol 84 is statistically significantly different at alpha=0.1, pval=0.0029371487068124754\nCol 85 is statistically significantly different at alpha=0.1, pval=2.5961381226266173e-05\nCol 86 is statistically significantly different at alpha=0.1, pval=0.000704482031274748\nCol 87 is statistically significantly different at alpha=0.1, pval=0.001150428594800568\nCol 88 is statistically significantly different at alpha=0.1, pval=0.005247334911765244\nCol 89 is statistically significantly different at alpha=0.1, pval=0.00041148666272858536\nCol 90 is statistically significantly different at alpha=0.1, pval=0.0016963183948766484\nCol 91 is statistically significantly different at alpha=0.1, pval=0.007448396910246534\nCol 92 is statistically significantly different at alpha=0.1, pval=5.133113338821186e-06\nCol 93 is statistically significantly different at alpha=0.1, pval=0.004762372463408279\nCol 94 is statistically significantly different at alpha=0.1, pval=0.0017326835194878092\nCol 95 is statistically significantly different at alpha=0.1, pval=0.00010133946963329105\nCol 96 is statistically significantly different at alpha=0.1, pval=0.004133445177779686\nCol 97 is statistically significantly different at alpha=0.1, pval=0.0024704876686348657\nCol 98 is statistically significantly different at alpha=0.1, pval=0.001763874799332698\nCol 99 is statistically significantly different at alpha=0.1, pval=2.9292252133158834e-05\nTotal number different was 99, which is 99.0%\n"
     ]
    }
   ],
   "source": [
    "# So, keep this in mind when you are doing statistical tests like the t-test which has a p-value. Understand\n",
    "# that this p-value isn't magic, that it's a threshold for you when reporting results and trying to answer\n",
    "# your hypothesis. What's a reasonable threshold? Depends on your question, and you need to engage domain\n",
    "# experts to better understand what they would consider significant.\n",
    "\n",
    "# Just for fun, lets recreate that second dataframe using a non-normal distribution, I'll arbitrarily chose\n",
    "# chi squared\n",
    "df2=pd.DataFrame([np.random.chisquare(df=1,size=100) for x in range(100)])\n",
    "test_columns()"
   ]
  },
  {
   "cell_type": "code",
   "execution_count": 20,
   "metadata": {},
   "outputs": [],
   "source": [
    "# Now we see that all or most columns test to be statistically significant at the 10% level."
   ]
  },
  {
   "cell_type": "markdown",
   "metadata": {},
   "source": [
    "In this lecture, we've discussed just some of the basics of hypothesis testing in Python. I introduced you\n",
    "to the SciPy library, which you can use for the students t test. We've discussed some of the practical\n",
    "issues which arise from looking for statistical significance. There's much more to learn about hypothesis\n",
    "testing, for instance, there are different tests used, depending on the shape of your data and different\n",
    "ways to report results instead of just p-values such as confidence intervals or bayesian analyses. But this\n",
    "should give you a basic idea of where to start when comparing two populations for differences, which is a\n",
    "common task for data scientists."
   ]
  }
 ],
 "metadata": {
  "kernelspec": {
   "name": "python391jvsc74a57bd0a5c211bb6517d1707717133dd53f8f960c78eef83580152631ddfa651c45ffb3",
   "display_name": "Python 3.9.1 64-bit ('3.9.1': pyenv)"
  },
  "language_info": {
   "codemirror_mode": {
    "name": "ipython",
    "version": 3
   },
   "file_extension": ".py",
   "mimetype": "text/x-python",
   "name": "python",
   "nbconvert_exporter": "python",
   "pygments_lexer": "ipython3",
   "version": "3.9.1"
  },
  "metadata": {
   "interpreter": {
    "hash": "a5c211bb6517d1707717133dd53f8f960c78eef83580152631ddfa651c45ffb3"
   }
  }
 },
 "nbformat": 4,
 "nbformat_minor": 2
}