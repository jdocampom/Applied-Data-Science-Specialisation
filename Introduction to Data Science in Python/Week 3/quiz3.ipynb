{
 "cells": [
  {
   "cell_type": "markdown",
   "metadata": {},
   "source": [
    "# Quiz 3"
   ]
  },
  {
   "cell_type": "code",
   "execution_count": 24,
   "metadata": {},
   "outputs": [
    {
     "output_type": "stream",
     "name": "stdout",
     "text": [
      "pd.merge(student_df, staff_df, how='left', left_index=True, right_index=True)\n"
     ]
    }
   ],
   "source": [
    "# Exercise 1 - OK\n",
    "print(\"pd.merge(student_df, staff_df, how='left', left_index=True, right_index=True)\")"
   ]
  },
  {
   "cell_type": "code",
   "execution_count": 6,
   "metadata": {},
   "outputs": [
    {
     "output_type": "stream",
     "name": "stdout",
     "text": [
      "\nframes = ['P2010', 'P2011', 'P2012', 'P2013','P2014', 'P2015'] \n\ndf['AVG'] = df[frames].apply(lambda z: np.mean(z), axis=x) \n\nresult_df = df.drop(frames,axis=y) \n \nx=1, y=1\n"
     ]
    }
   ],
   "source": [
    "# Exercise 2 - OK\n",
    "print(\"\"\"\n",
    "frames = ['P2010', 'P2011', 'P2012', 'P2013','P2014', 'P2015'] \\n\n",
    "df['AVG'] = df[frames].apply(lambda z: np.mean(z), axis=x) \\n\n",
    "result_df = df.drop(frames,axis=y) \\n \"\"\")\n",
    "\n",
    "print(\"x=1, y=1\")"
   ]
  },
  {
   "cell_type": "code",
   "execution_count": 25,
   "metadata": {},
   "outputs": [
    {
     "output_type": "stream",
     "name": "stdout",
     "text": [
      "my_categories = pd.CategoricalDtype(categories=['D', 'D+', 'C-', 'C', 'C+', 'B-', 'B', 'B+', 'A-', 'A', 'A+'], ordered=True)\nmy_categories = category\n"
     ]
    },
    {
     "output_type": "execute_result",
     "data": {
      "text/plain": [
       "excellent    A-\n",
       "good         B+\n",
       "Name: Grades, dtype: category\n",
       "Categories (11, object): ['D' < 'D+' < 'C-' < 'C' ... 'B+' < 'A-' < 'A' < 'A+']"
      ]
     },
     "metadata": {},
     "execution_count": 25
    }
   ],
   "source": [
    "# Exercise 3 - OK\n",
    "print(\"my_categories = pd.CategoricalDtype(categories=['D', 'D+', 'C-', 'C', 'C+', 'B-', 'B', 'B+', 'A-', 'A', 'A+'], ordered=True)\")\n",
    "my_categories = pd.CategoricalDtype(categories=['D', 'D+', 'C-', 'C', 'C+', 'B-', 'B', 'B+', 'A-', 'A', 'A+'], ordered=True)\n",
    "print(f'my_categories = {my_categories}')\n",
    "\n",
    "X = my_categories\n",
    "import pandas as pd\n",
    "df = pd.DataFrame(['A+', 'A', 'A-', 'B+', 'B', 'B-', 'C+', 'C', 'C-', 'D+', 'D'], index=['excellent', 'excellent', 'excellent', 'good', 'good', 'good', 'ok', 'ok', 'ok', 'poor', 'poor'], columns = ['Grades'])\n",
    "my_categories = X\n",
    "grades = df['Grades'].astype(my_categories)\n",
    "result = grades[(grades>'B') & (grades<'A')]\n",
    "result"
   ]
  },
  {
   "cell_type": "code",
   "execution_count": 26,
   "metadata": {},
   "outputs": [
    {
     "output_type": "stream",
     "name": "stdout",
     "text": [
      "df.pivot_table(values='score', index='country', columns='Rank_Level', aggfunc=[np.median], margins=True)\n"
     ]
    }
   ],
   "source": [
    "# Exercise 4 - OK\n",
    "print(\"df.pivot_table(values='score', index='country', columns='Rank_Level', aggfunc=[np.median], margins=True)\")"
   ]
  },
  {
   "cell_type": "code",
   "execution_count": 15,
   "metadata": {},
   "outputs": [
    {
     "output_type": "execute_result",
     "data": {
      "text/plain": [
       "5"
      ]
     },
     "metadata": {},
     "execution_count": 15
    }
   ],
   "source": [
    "# Exercise 5 - OK\n",
    "import pandas as pd\n",
    "(pd.Timestamp('11/29/2019') + pd.offsets.MonthEnd()).weekday()"
   ]
  },
  {
   "cell_type": "code",
   "execution_count": 19,
   "metadata": {},
   "outputs": [
    {
     "output_type": "stream",
     "name": "stdout",
     "text": [
      "df.groupby(group_key).apply(filling_mean)\n"
     ]
    }
   ],
   "source": [
    "# Exercise 6 - OK\n",
    "filling_mean = lambda g: g.fillna(g.mean())\n",
    "print(\"df.groupby(group_key).apply(filling_mean)\")"
   ]
  },
  {
   "cell_type": "code",
   "execution_count": 20,
   "metadata": {},
   "outputs": [
    {
     "output_type": "stream",
     "name": "stdout",
     "text": [
      "result_df = pd.merge(staff_df, student_df, how='right', on=['First Name', 'Last Name'])\n"
     ]
    }
   ],
   "source": [
    "# Exercise 7 - OK\n",
    "print(\"result_df = pd.merge(staff_df, student_df, how='right', on=['First Name', 'Last Name'])\")"
   ]
  },
  {
   "cell_type": "code",
   "execution_count": 21,
   "metadata": {},
   "outputs": [
    {
     "output_type": "stream",
     "name": "stdout",
     "text": [
      "df.groupby('review_scores_value').agg({'name': len, 'reviews_per_month': (np.nanmean, np.nanstd)})\n"
     ]
    }
   ],
   "source": [
    "# Exercise 8 - OK\n",
    "print(\"df.groupby('review_scores_value').agg({'name': len, 'reviews_per_month': (np.nanmean, np.nanstd)})\")"
   ]
  },
  {
   "cell_type": "code",
   "execution_count": 22,
   "metadata": {},
   "outputs": [
    {
     "output_type": "execute_result",
     "data": {
      "text/plain": [
       "Period('2019-06', 'M')"
      ]
     },
     "metadata": {},
     "execution_count": 22
    }
   ],
   "source": [
    "# Exercise 9 - OK\n",
    "import pandas as pd\n",
    "pd.Period('01/12/2019', 'M') + 5"
   ]
  },
  {
   "cell_type": "code",
   "execution_count": 23,
   "metadata": {},
   "outputs": [
    {
     "output_type": "stream",
     "name": "stdout",
     "text": [
      "df.groupby('vegetable')\n"
     ]
    }
   ],
   "source": [
    "# Exercise 10 - OK\n",
    "print(\"df.groupby('vegetable')\")"
   ]
  },
  {
   "cell_type": "code",
   "execution_count": null,
   "metadata": {},
   "outputs": [],
   "source": []
  }
 ],
 "metadata": {
  "interpreter": {
   "hash": "a5c211bb6517d1707717133dd53f8f960c78eef83580152631ddfa651c45ffb3"
  },
  "kernelspec": {
   "name": "python391jvsc74a57bd0a5c211bb6517d1707717133dd53f8f960c78eef83580152631ddfa651c45ffb3",
   "display_name": "Python 3.9.1 64-bit ('3.9.1': pyenv)"
  },
  "language_info": {
   "codemirror_mode": {
    "name": "ipython",
    "version": 3
   },
   "file_extension": ".py",
   "mimetype": "text/x-python",
   "name": "python",
   "nbconvert_exporter": "python",
   "pygments_lexer": "ipython3",
   "version": "3.9.1"
  },
  "metadata": {
   "interpreter": {
    "hash": "a5c211bb6517d1707717133dd53f8f960c78eef83580152631ddfa651c45ffb3"
   }
  }
 },
 "nbformat": 4,
 "nbformat_minor": 1
}