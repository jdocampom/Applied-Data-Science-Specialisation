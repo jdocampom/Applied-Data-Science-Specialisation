{
 "cells": [
  {
   "cell_type": "markdown",
   "metadata": {},
   "source": [
    "# Quiz 2"
   ]
  },
  {
   "cell_type": "code",
   "execution_count": 20,
   "metadata": {},
   "outputs": [
    {
     "name": "stdout",
     "output_type": "stream",
     "text": [
      "False\n"
     ]
    }
   ],
   "source": [
    "# Exercise 1 -- OK\n",
    "import pandas as pd\n",
    "sdata = {'Ohio': 35000, 'Texas': 71000, 'Oregon': 16000, 'Utah': 5000}\n",
    "obj1 = pd.Series(sdata)\n",
    "states = ['California', 'Ohio', 'Oregon', 'Texas']\n",
    "obj2 = pd.Series(sdata, index=states)\n",
    "obj3 = pd.isnull(obj2)\n",
    "\n",
    "print(obj2['California'] == None)"
   ]
  },
  {
   "cell_type": "code",
   "execution_count": 21,
   "metadata": {},
   "outputs": [
    {
     "name": "stdout",
     "output_type": "stream",
     "text": [
      "1    Alice\n",
      "2      Bob\n",
      "3     Rita\n",
      "dtype: object\n"
     ]
    }
   ],
   "source": [
    "# Exercise 2 -- OK\n",
    "import pandas as pd\n",
    "d = {'1': 'Alice','2': 'Bob','3': 'Rita','4': 'Molly','5': 'Ryan'}\n",
    "S = pd.Series(d)\n",
    "\n",
    "print(S.iloc[0:3])"
   ]
  },
  {
   "cell_type": "code",
   "execution_count": 32,
   "metadata": {},
   "outputs": [
    {
     "name": "stdout",
     "output_type": "stream",
     "text": [
      "df.rename(mapper = lambda x: x.upper(), axis = 1)\n"
     ]
    }
   ],
   "source": [
    "# Exercise 3 -- OK\n",
    "print('df.rename(mapper = lambda x: x.upper(), axis = 1)')"
   ]
  },
  {
   "cell_type": "code",
   "execution_count": 25,
   "metadata": {},
   "outputs": [
    {
     "name": "stdout",
     "output_type": "stream",
     "text": [
      "df.where(df['toefl score'] > 105)\n"
     ]
    }
   ],
   "source": [
    "# Exercise 4 -- OK\n",
    "print(\"df.where(df['toefl score'] > 105)\")"
   ]
  },
  {
   "cell_type": "code",
   "execution_count": 26,
   "metadata": {},
   "outputs": [
    {
     "name": "stdout",
     "output_type": "stream",
     "text": [
      "Question 5. Which of the following can be used to create a DataFrame in Pandas?\n",
      "All these work\n"
     ]
    }
   ],
   "source": [
    "# Exercise 5 -- OK\n",
    "print('Question 5. Which of the following can be used to create a DataFrame in Pandas?')\n",
    "print('All these work')"
   ]
  },
  {
   "cell_type": "code",
   "execution_count": 27,
   "metadata": {},
   "outputs": [
    {
     "name": "stdout",
     "output_type": "stream",
     "text": [
      "df.drop('two')\n"
     ]
    }
   ],
   "source": [
    "# Exercise 6 -- OK\n",
    "print(\"df.drop('two')\")"
   ]
  },
  {
   "cell_type": "code",
   "execution_count": 28,
   "metadata": {},
   "outputs": [
    {
     "name": "stdout",
     "output_type": "stream",
     "text": [
      "s2.loc[1]\n"
     ]
    }
   ],
   "source": [
    "# Exercise 7 -- OK\n",
    "import pandas as pd\n",
    "s1 = pd.Series({1: 'Alice', 2: 'Jack', 3: 'Molly'})\n",
    "s2 = pd.Series({'Alice': 1, 'Jack': 2, 'Molly': 3})\n",
    "\n",
    "print('s2.loc[1]')"
   ]
  },
  {
   "cell_type": "code",
   "execution_count": 29,
   "metadata": {},
   "outputs": [
    {
     "name": "stdout",
     "output_type": "stream",
     "text": [
      "loc and iloc are two useful and commonly used Pandas methods.\n"
     ]
    }
   ],
   "source": [
    "# Exercise 8 -- OK\n",
    "print('loc and iloc are two useful and commonly used Pandas methods.')"
   ]
  },
  {
   "cell_type": "code",
   "execution_count": 30,
   "metadata": {},
   "outputs": [
    {
     "name": "stdout",
     "output_type": "stream",
     "text": [
      "(df['toefl score'] > 105) & (df['toefl score'] < 115)\n"
     ]
    }
   ],
   "source": [
    "# Exercise 9 -- OK\n",
    "print(\"(df['toefl score'] > 105) & (df['toefl score'] < 115)\")"
   ]
  },
  {
   "cell_type": "code",
   "execution_count": 31,
   "metadata": {},
   "outputs": [
    {
     "name": "stdout",
     "output_type": "stream",
     "text": [
      "df.T['Mathematics']\n"
     ]
    }
   ],
   "source": [
    "# Exercise 10 -- OK\n",
    "print(\"df.T['Mathematics']\")"
   ]
  },
  {
   "cell_type": "code",
   "execution_count": null,
   "metadata": {},
   "outputs": [],
   "source": []
  }
 ],
 "metadata": {
  "interpreter": {
   "hash": "a5c211bb6517d1707717133dd53f8f960c78eef83580152631ddfa651c45ffb3"
  },
  "kernelspec": {
   "display_name": "Python 3.9.1 64-bit ('3.9.1': pyenv)",
   "name": "python3"
  },
  "language_info": {
   "codemirror_mode": {
    "name": "ipython",
    "version": 3
   },
   "file_extension": ".py",
   "mimetype": "text/x-python",
   "name": "python",
   "nbconvert_exporter": "python",
   "pygments_lexer": "ipython3",
   "version": "3.9.1"
  }
 },
 "nbformat": 4,
 "nbformat_minor": 1
}